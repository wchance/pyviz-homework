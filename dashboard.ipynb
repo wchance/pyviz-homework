{
 "cells": [
  {
   "cell_type": "markdown",
   "metadata": {},
   "source": [
    "# San Francisco Rental Prices Dashboard\n",
    "\n",
    "In this notebook, you will compile the visualizations from the previous analysis into functions that can be used for a Panel dashboard."
   ]
  },
  {
   "cell_type": "code",
   "execution_count": 20,
   "metadata": {},
   "outputs": [],
   "source": [
    "# imports\n",
    "import panel as pn\n",
    "import plotly.express as px\n",
    "import pandas as pd\n",
    "import matplotlib.pyplot as plt\n",
    "import os\n",
    "from pathlib import Path\n",
    "from dotenv import load_dotenv"
   ]
  },
  {
   "cell_type": "code",
   "execution_count": 21,
   "metadata": {},
   "outputs": [],
   "source": [
    "# Set up Panel Plotly extension\n",
    "pn.extension('plotly')"
   ]
  },
  {
   "cell_type": "code",
   "execution_count": 22,
   "metadata": {},
   "outputs": [],
   "source": [
    "# Import hvplot.pandas after pn.extension\n",
    "# This avoids plotly initialization failure\n",
    "import hvplot.pandas"
   ]
  },
  {
   "cell_type": "code",
   "execution_count": 23,
   "metadata": {},
   "outputs": [],
   "source": [
    "# Read the Mapbox API key\n",
    "load_dotenv('api_keys.env')\n",
    "map_box_api = os.getenv(\"MAPBOX_TOKEN\")\n",
    "px.set_mapbox_access_token(map_box_api)"
   ]
  },
  {
   "cell_type": "markdown",
   "metadata": {},
   "source": [
    "# Import Data"
   ]
  },
  {
   "cell_type": "code",
   "execution_count": 24,
   "metadata": {},
   "outputs": [],
   "source": [
    "# Import the necessary CSVs to Pandas DataFrames\n",
    "file_path_census = Path(\"Data/sfo_neighborhoods_census_data.csv\")\n",
    "df_costs = pd.read_csv(file_path_census, index_col=\"year\")\n",
    "\n",
    "file_path_coord = Path(\"Data/neighborhoods_coordinates.csv\")\n",
    "neighborhood_coordinates = pd.read_csv(file_path_coord)\n",
    "neighborhood_coordinates.columns=[\"neighborhood\", \"lat\", \"log\"]\n",
    "\n",
    "df_costs.dropna(inplace=True)"
   ]
  },
  {
   "cell_type": "markdown",
   "metadata": {},
   "source": [
    "- - -"
   ]
  },
  {
   "cell_type": "markdown",
   "metadata": {},
   "source": [
    "## Panel Visualizations\n",
    "\n",
    "In this section, you will copy the code for each plot type from your analysis notebook and place it into separate functions that Panel can use to create panes for the dashboard. \n",
    "\n",
    "These functions will convert the plot object to a Panel pane.\n",
    "\n",
    "Be sure to include any DataFrame transformation/manipulation code required along with the plotting code.\n",
    "\n",
    "Return a Panel pane object from each function that can be used to build the dashboard.\n",
    "\n",
    "Note: Remove any `.show()` lines from the code. We want to return the plots instead of showing them. The Panel dashboard will then display the plots."
   ]
  },
  {
   "cell_type": "code",
   "execution_count": 25,
   "metadata": {},
   "outputs": [],
   "source": [
    "# Define Panel Visualization Functions\n",
    "def housing_units_per_year():\n",
    "    housing_units_per_year = df_costs.groupby(\"year\")[\"housing_units\"].mean() \n",
    "    bar_min = housing_units_per_year.describe(include='all').loc['min'] - (housing_units_per_year.describe(include='all').loc['std']/4)\n",
    "    bar_max = housing_units_per_year.describe(include='all').loc['max'] + (housing_units_per_year.describe(include='all').loc['std']/4)\n",
    "  \n",
    "    housing_units_per_year_plot = housing_units_per_year.hvplot.bar(xlabel='Year',\n",
    "                                                                    ylabel='Housing Units',\n",
    "                                                                    ylim=(bar_min, bar_max),\n",
    "                                                                    height=400).opts(title='Housing Units in San Francisco from 2010 to 2016',\n",
    "                                                                                     yformatter=\"%.0f\")\n",
    "    return housing_units_per_year_plot\n",
    "\n",
    "def average_gross_rent():\n",
    "    average_gross_rent = df_costs.groupby(['year']).mean()\n",
    "    average_gross_rent_plot = average_gross_rent['gross_rent'].hvplot.line(line_color='red',\n",
    "                                                                xlabel='Year',\n",
    "                                                                ylabel='Price per SqFt',\n",
    "                                                                width=500,\n",
    "                                                                height=400,\n",
    "                                                                grid=True, \n",
    "                                                                title='Average Gross Rent by Year'\n",
    "                                                               )\n",
    "    return average_gross_rent_plot\n",
    "    \n",
    "def average_sales_price():  \n",
    "    average_sales_price = df_costs.groupby(['year']).mean()\n",
    "    average_sales_price_plot = average_sales_price['sale_price_sqr_foot'].hvplot.line(line_color='purple',\n",
    "                                                                     xlabel='Year',\n",
    "                                                                     ylabel='USD',\n",
    "                                                                     width=500,\n",
    "                                                                     height=400,\n",
    "                                                                     grid=True,\n",
    "                                                                     title = 'Average Price per SqFt by Year')\n",
    "    return average_sales_price_plot\n",
    "\n",
    "def average_price_by_neighborhood():\n",
    "    average_price_by_neighborhood = df_costs.groupby(['year', 'neighborhood']).mean()\n",
    "    neighborgood = average_price_by_neighborhood['sale_price_sqr_foot']\n",
    "    average_price_by_neighborhood_plot = neighborgood.hvplot(groupby='neighborhood',\n",
    "                                                            line_color='blue',\n",
    "                                                            xlabel='Year',\n",
    "                                                            ylabel='Avg. Sale Price per Square Foot',\n",
    "                                                            width=600,\n",
    "                                                            height=300,\n",
    "                                                            grid=True\n",
    "                                                           )\n",
    "    return average_price_by_neighborhood_plot\n",
    "\n",
    "def top_most_expensive_neighborhoods():\n",
    "    top_most_expensive_neighborhoods = df_costs.groupby(['neighborhood']).mean()\n",
    "    top_most_expensive_neighborhoods.sort_values('sale_price_sqr_foot', ascending=False, inplace=True)\n",
    "    top_most_expensive_neighborhoods = top_most_expensive_neighborhoods[:10]\n",
    "    top_most_expensive_neighborhoods_plot = top_most_expensive_neighborhoods.hvplot.bar(height=400,\n",
    "                                                                                        x='neighborhood',\n",
    "                                                                                        xlabel='Neighborhood',\n",
    "                                                                                        y='sale_price_sqr_foot',\n",
    "                                                                                        ylabel='Avg. Sale Price per Square Foot',\n",
    "                                                                                        rot=90).opts(title='Top 10 Expensive Neighborhoods in SFO')\n",
    "    return top_most_expensive_neighborhoods_plot                         \n",
    "\n",
    "def most_expensive_neighborhoods_rent_sales(): \n",
    "    sfo_neighborhood_avg = df_costs.groupby(['year', 'neighborhood']).mean()\n",
    "    most_expensive_neighborhoods_rent_sales_plot = sfo_neighborhood_avg.hvplot.bar(groupby='neighborhood',\n",
    "                                                                                   height=400,\n",
    "                                                                                   x='year',\n",
    "                                                                                   xlabel='Year',\n",
    "                                                                                   y=['sale_price_sqr_foot','gross_rent'],\n",
    "                                                                                   ylabel='Price',\n",
    "                                                                                   rot=90,\n",
    "                                                                                   title='Comparing Cost to Purchase Versus Rental Income')\n",
    "    return most_expensive_neighborhoods_rent_sales_plot\n",
    "   \n",
    "    \n",
    "def parallel_coordinates():\n",
    "    sfo_top_neighborhood = df_costs.groupby(['neighborhood']).mean()\n",
    "    sfo_top_neighborhood.sort_values('sale_price_sqr_foot', ascending=False, inplace=True)\n",
    "    df_expensive_neighborhoods = sfo_top_neighborhood[:10]\n",
    "    df_expensive_neighborhoods.reset_index(inplace=True)\n",
    "    parallel_coordinates_plot = px.parallel_coordinates(df_expensive_neighborhoods, color='sale_price_sqr_foot')\n",
    "    return parallel_coordinates_plot\n",
    "\n",
    "\n",
    "def parallel_categories():\n",
    "    sfo_top_neighborhood = df_costs.groupby(['neighborhood']).mean()\n",
    "    sfo_top_neighborhood.sort_values('sale_price_sqr_foot', ascending=False, inplace=True)\n",
    "    df_expensive_neighborhoods = sfo_top_neighborhood[:10]\n",
    "    df_expensive_neighborhoods.reset_index(inplace=True)\n",
    "    parallel_categories_plot = px.parallel_categories(\n",
    "        df_expensive_neighborhoods, \n",
    "        dimensions=['neighborhood','sale_price_sqr_foot','housing_units', 'gross_rent'], \n",
    "        color='sale_price_sqr_foot',                  \n",
    "        color_continuous_scale=px.colors.sequential.Inferno   \n",
    "    )\n",
    "    return parallel_categories_plot\n",
    "\n",
    "def neighborhood_map():\n",
    "    \n",
    "    neighborhood_avg = df_costs.groupby('neighborhood').mean()\n",
    "    neighborhood_avg.reset_index(inplace=True)\n",
    "    neighborhood_map = pd.merge(neighborhood_coordinates, neighborhood_avg, on='neighborhood')\n",
    "    neighborhood_plot = px.scatter_mapbox(\n",
    "        neighborhood_map,\n",
    "        lat=\"lat\",\n",
    "        lon=\"log\",\n",
    "        size=\"sale_price_sqr_foot\",\n",
    "        color=\"gross_rent\",\n",
    "        zoom=11,\n",
    "        color_continuous_scale=px.colors.cyclical.IceFire, \n",
    "        size_max=15, \n",
    "        title='Average Sale Price Per Square Good and Gross Rent in San Francisco'\n",
    "    )\n",
    "    return neighborhood_plot\n",
    "\n",
    "def sunburst():\n",
    "    sfo_top_neighborhood = df_costs.groupby(['neighborhood']).mean()\n",
    "    sfo_top_neighborhood.sort_values('sale_price_sqr_foot', ascending=False, inplace=True)\n",
    "    df_expensive_neighborhoods = sfo_top_neighborhood[:10]\n",
    "    df_expensive_neighborhoods.reset_index(inplace=True)\n",
    "    df_expensive_neighborhoods_per_year = df_costs[df_costs[\"neighborhood\"].isin(df_expensive_neighborhoods[\"neighborhood\"])]\n",
    "    df_expensive_neighborhoods_per_year.reset_index(inplace=True)\n",
    "    sunburst_plot = px.sunburst(\n",
    "        df_expensive_neighborhoods_per_year,\n",
    "        path=['year', 'neighborhood'],\n",
    "        values='sale_price_sqr_foot',\n",
    "        color='gross_rent',\n",
    "        color_continuous_scale='blues',\n",
    "        width=800,\n",
    "        height=800,\n",
    "        title='Cost Analysis of Most Expensive neighborhoods in San Francisco per Year'\n",
    "    )\n",
    "    return sunburst_plot\n"
   ]
  },
  {
   "cell_type": "markdown",
   "metadata": {},
   "source": [
    "## Panel Dashboard\n",
    "\n",
    "In this section, you will combine all of the plots into a single dashboard view using Panel. Be creative with your dashboard design!"
   ]
  },
  {
   "cell_type": "code",
   "execution_count": 26,
   "metadata": {},
   "outputs": [],
   "source": [
    "welcome_title = \"### This dashboard represents a visual analysis of historical prices of house units, sale price per square foot\" \\\n",
    "                \" and gross rent in San Francisco, California from 2010 to 2016.  You can navigate through the tabs above to explore\" \\\n",
    "                \" more details about the evolution of the real estate market in The Golden City across these years.\"\n",
    "welcome = pn.Column(welcome_title, neighborhood_map())\n",
    "yearly_market_analysis = pn.Row(housing_units_per_year, average_gross_rent, average_sales_price)\n",
    "neighborhood_analysis = pn.Column(average_price_by_neighborhood, top_most_expensive_neighborhoods)\n",
    "parallel_plots_analysis = pn.Column(parallel_coordinates, parallel_categories)\n"
   ]
  },
  {
   "cell_type": "code",
   "execution_count": 41,
   "metadata": {},
   "outputs": [
    {
     "data": {},
     "metadata": {},
     "output_type": "display_data"
    },
    {
     "data": {},
     "metadata": {},
     "output_type": "display_data"
    },
    {
     "data": {
      "application/vnd.holoviews_exec.v0+json": "",
      "text/html": [
       "<div id='17707'>\n",
       "\n",
       "\n",
       "\n",
       "\n",
       "\n",
       "  <div class=\"bk-root\" id=\"f7ca3406-89bf-4e6d-9960-837b17fd4076\" data-root-id=\"17707\"></div>\n",
       "</div>\n",
       "<script type=\"application/javascript\">(function(root) {\n",
       "  function embed_document(root) {\n",
       "    var docs_json = {\"190de75d-bc41-4ae8-a3c6-d2823f4d1f08\":{\"defs\":[{\"extends\":null,\"module\":null,\"name\":\"DataModel\",\"overrides\":[],\"properties\":[]}],\"roots\":{\"references\":[{\"attributes\":{\"children\":[{\"id\":\"17708\"},{\"id\":\"17709\"}],\"margin\":[0,0,0,0],\"name\":\"Column12655\"},\"id\":\"17707\",\"type\":\"Column\"},{\"attributes\":{},\"id\":\"17920\",\"type\":\"UnionRenderers\"},{\"attributes\":{\"line_alpha\":0.1,\"line_color\":\"purple\",\"line_width\":2,\"x\":{\"field\":\"year\"},\"y\":{\"field\":\"sale_price_sqr_foot\"}},\"id\":\"17900\",\"type\":\"Line\"},{\"attributes\":{},\"id\":\"17762\",\"type\":\"CategoricalTickFormatter\"},{\"attributes\":{\"bottom\":{\"value\":0},\"fill_alpha\":{\"value\":1.0},\"fill_color\":{\"value\":\"#30a2da\"},\"hatch_alpha\":{\"value\":1.0},\"hatch_color\":{\"value\":\"black\"},\"hatch_scale\":{\"value\":12.0},\"hatch_weight\":{\"value\":1.0},\"line_alpha\":{\"value\":1.0},\"line_cap\":{\"value\":\"butt\"},\"line_color\":{\"value\":\"black\"},\"line_dash\":{\"value\":[]},\"line_dash_offset\":{\"value\":0},\"line_join\":{\"value\":\"bevel\"},\"line_width\":{\"value\":1},\"top\":{\"field\":\"housing_units\"},\"width\":{\"value\":0.8},\"x\":{\"field\":\"year\"}},\"id\":\"17759\",\"type\":\"VBar\"},{\"attributes\":{\"overlay\":{\"id\":\"17815\"}},\"id\":\"17813\",\"type\":\"BoxZoomTool\"},{\"attributes\":{},\"id\":\"17897\",\"type\":\"Selection\"},{\"attributes\":{\"fill_color\":{\"value\":\"#30a2da\"},\"top\":{\"field\":\"housing_units\"},\"width\":{\"value\":0.8},\"x\":{\"field\":\"year\"}},\"id\":\"17754\",\"type\":\"VBar\"},{\"attributes\":{\"data_source\":{\"id\":\"17896\"},\"glyph\":{\"id\":\"17899\"},\"hover_glyph\":null,\"muted_glyph\":{\"id\":\"17901\"},\"nonselection_glyph\":{\"id\":\"17900\"},\"selection_glyph\":{\"id\":\"17904\"},\"view\":{\"id\":\"17903\"}},\"id\":\"17902\",\"type\":\"GlyphRenderer\"},{\"attributes\":{\"line_color\":\"purple\",\"line_width\":2,\"x\":{\"field\":\"year\"},\"y\":{\"field\":\"sale_price_sqr_foot\"}},\"id\":\"17899\",\"type\":\"Line\"},{\"attributes\":{},\"id\":\"17752\",\"type\":\"Selection\"},{\"attributes\":{\"text\":\"Housing Units in San Francisco from 2010 to 2016\",\"text_color\":\"black\",\"text_font_size\":\"12pt\"},\"id\":\"17723\",\"type\":\"Title\"},{\"attributes\":{\"fill_alpha\":{\"value\":0.1},\"fill_color\":{\"value\":\"#30a2da\"},\"line_alpha\":{\"value\":0.1},\"top\":{\"field\":\"housing_units\"},\"width\":{\"value\":0.8},\"x\":{\"field\":\"year\"}},\"id\":\"17755\",\"type\":\"VBar\"},{\"attributes\":{\"data_source\":{\"id\":\"17751\"},\"glyph\":{\"id\":\"17754\"},\"hover_glyph\":null,\"muted_glyph\":{\"id\":\"17756\"},\"nonselection_glyph\":{\"id\":\"17755\"},\"selection_glyph\":{\"id\":\"17759\"},\"view\":{\"id\":\"17758\"}},\"id\":\"17757\",\"type\":\"GlyphRenderer\"},{\"attributes\":{\"line_alpha\":0.2,\"line_color\":\"purple\",\"line_width\":2,\"x\":{\"field\":\"year\"},\"y\":{\"field\":\"sale_price_sqr_foot\"}},\"id\":\"17901\",\"type\":\"Line\"},{\"attributes\":{\"source\":{\"id\":\"17751\"}},\"id\":\"17758\",\"type\":\"CDSView\"},{\"attributes\":{\"source\":{\"id\":\"17896\"}},\"id\":\"17903\",\"type\":\"CDSView\"},{\"attributes\":{\"fill_alpha\":{\"value\":0.2},\"fill_color\":{\"value\":\"#30a2da\"},\"line_alpha\":{\"value\":0.2},\"top\":{\"field\":\"housing_units\"},\"width\":{\"value\":0.8},\"x\":{\"field\":\"year\"}},\"id\":\"17756\",\"type\":\"VBar\"},{\"attributes\":{\"line_color\":\"purple\",\"line_width\":2,\"x\":{\"field\":\"year\"},\"y\":{\"field\":\"sale_price_sqr_foot\"}},\"id\":\"17904\",\"type\":\"Line\"},{\"attributes\":{\"children\":[{\"id\":\"17938\"}],\"margin\":[0,0,0,0],\"name\":\"Row09860\"},\"id\":\"17937\",\"type\":\"Row\"},{\"attributes\":{},\"id\":\"17906\",\"type\":\"BasicTickFormatter\"},{\"attributes\":{\"callback\":null,\"renderers\":[{\"id\":\"17757\"}],\"tags\":[\"hv_created\"],\"tooltips\":[[\"year\",\"@{year}\"],[\"housing_units\",\"@{housing_units}\"]]},\"id\":\"17721\",\"type\":\"HoverTool\"},{\"attributes\":{\"factors\":[\"2010\",\"2011\",\"2012\",\"2013\",\"2014\",\"2015\",\"2016\"],\"tags\":[[[\"year\",\"year\",null]]]},\"id\":\"17719\",\"type\":\"FactorRange\"},{\"attributes\":{},\"id\":\"17907\",\"type\":\"AllLabels\"},{\"attributes\":{\"format\":\"%.0f\"},\"id\":\"17760\",\"type\":\"PrintfTickFormatter\"},{\"attributes\":{\"children\":[{\"id\":\"17942\"},{\"id\":\"18017\"}],\"margin\":[0,0,0,0],\"name\":\"interactive09827\"},\"id\":\"17938\",\"type\":\"Row\"},{\"attributes\":{\"callback\":null,\"renderers\":[{\"id\":\"17978\"}],\"tags\":[\"hv_created\"],\"tooltips\":[[\"year\",\"@{year}\"],[\"sale_price_sqr_foot\",\"@{sale_price_sqr_foot}\"]]},\"id\":\"17941\",\"type\":\"HoverTool\"},{\"attributes\":{},\"id\":\"17909\",\"type\":\"BasicTickFormatter\"},{\"attributes\":{\"children\":[{\"id\":\"17936\"},{\"id\":\"17937\"}],\"margin\":[0,0,0,0],\"name\":\"Column09828\"},\"id\":\"17935\",\"type\":\"Column\"},{\"attributes\":{},\"id\":\"17727\",\"type\":\"CategoricalScale\"},{\"attributes\":{\"reload\":false},\"id\":\"18453\",\"type\":\"panel.models.location.Location\"},{\"attributes\":{},\"id\":\"17732\",\"type\":\"CategoricalTicker\"},{\"attributes\":{\"axis\":{\"id\":\"17731\"},\"grid_line_color\":null,\"ticker\":null},\"id\":\"17733\",\"type\":\"Grid\"},{\"attributes\":{\"end\":385293.50017831667,\"reset_end\":385293.50017831667,\"reset_start\":371508.49982168333,\"start\":371508.49982168333,\"tags\":[[[\"housing_units\",\"housing_units\",null]]]},\"id\":\"17720\",\"type\":\"Range1d\"},{\"attributes\":{\"line_alpha\":0.2,\"line_color\":\"red\",\"line_width\":2,\"x\":{\"field\":\"year\"},\"y\":{\"field\":\"gross_rent\"}},\"id\":\"17828\",\"type\":\"Line\"},{\"attributes\":{\"below\":[{\"id\":\"17731\"}],\"center\":[{\"id\":\"17733\"},{\"id\":\"17737\"}],\"height\":400,\"left\":[{\"id\":\"17734\"}],\"margin\":[5,5,5,5],\"min_border_bottom\":10,\"min_border_left\":10,\"min_border_right\":10,\"min_border_top\":10,\"renderers\":[{\"id\":\"17757\"}],\"sizing_mode\":\"fixed\",\"title\":{\"id\":\"17723\"},\"toolbar\":{\"id\":\"17744\"},\"width\":700,\"x_range\":{\"id\":\"17719\"},\"x_scale\":{\"id\":\"17727\"},\"y_range\":{\"id\":\"17720\"},\"y_scale\":{\"id\":\"17729\"}},\"id\":\"17722\",\"subtype\":\"Figure\",\"type\":\"Plot\"},{\"attributes\":{},\"id\":\"17763\",\"type\":\"AllLabels\"},{\"attributes\":{},\"id\":\"18004\",\"type\":\"UnionRenderers\"},{\"attributes\":{\"data\":{\"housing_units\":[372560,374507,376454,378401,380348,382295,384242],\"year\":[\"2010\",\"2011\",\"2012\",\"2013\",\"2014\",\"2015\",\"2016\"]},\"selected\":{\"id\":\"17752\"},\"selection_policy\":{\"id\":\"17775\"}},\"id\":\"17751\",\"type\":\"ColumnDataSource\"},{\"attributes\":{},\"id\":\"17729\",\"type\":\"LinearScale\"},{\"attributes\":{\"children\":[{\"id\":\"18022\"},{\"id\":\"18023\"}],\"margin\":[0,0,0,0],\"name\":\"Column09863\"},\"id\":\"18021\",\"type\":\"Column\"},{\"attributes\":{},\"id\":\"17847\",\"type\":\"UnionRenderers\"},{\"attributes\":{\"axis\":{\"id\":\"17734\"},\"dimension\":1,\"grid_line_color\":null,\"ticker\":null},\"id\":\"17737\",\"type\":\"Grid\"},{\"attributes\":{},\"id\":\"17766\",\"type\":\"AllLabels\"},{\"attributes\":{},\"id\":\"17910\",\"type\":\"AllLabels\"},{\"attributes\":{},\"id\":\"17739\",\"type\":\"PanTool\"},{\"attributes\":{\"axis_label\":\"Year\",\"formatter\":{\"id\":\"17762\"},\"major_label_policy\":{\"id\":\"17763\"},\"ticker\":{\"id\":\"17732\"}},\"id\":\"17731\",\"type\":\"CategoricalAxis\"},{\"attributes\":{},\"id\":\"17812\",\"type\":\"WheelZoomTool\"},{\"attributes\":{\"children\":[{\"id\":\"18093\"},{\"id\":\"18098\"}],\"margin\":[0,0,0,0],\"name\":\"Column10003\"},\"id\":\"18092\",\"type\":\"Column\"},{\"attributes\":{\"axis_label\":\"Housing Units\",\"formatter\":{\"id\":\"17760\"},\"major_label_policy\":{\"id\":\"17766\"},\"ticker\":{\"id\":\"17735\"}},\"id\":\"17734\",\"type\":\"LinearAxis\"},{\"attributes\":{\"active_multi\":null,\"tools\":[{\"id\":\"17941\"},{\"id\":\"17959\"},{\"id\":\"17960\"},{\"id\":\"17961\"},{\"id\":\"17962\"},{\"id\":\"17963\"}]},\"id\":\"17965\",\"type\":\"Toolbar\"},{\"attributes\":{},\"id\":\"17735\",\"type\":\"BasicTicker\"},{\"attributes\":{\"margin\":[0,0,0,0],\"name\":\"Column09861\"},\"id\":\"17936\",\"type\":\"Column\"},{\"attributes\":{},\"id\":\"17740\",\"type\":\"WheelZoomTool\"},{\"attributes\":{\"source\":{\"id\":\"17823\"}},\"id\":\"17830\",\"type\":\"CDSView\"},{\"attributes\":{\"data_source\":{\"id\":\"17823\"},\"glyph\":{\"id\":\"17826\"},\"hover_glyph\":null,\"muted_glyph\":{\"id\":\"17828\"},\"nonselection_glyph\":{\"id\":\"17827\"},\"selection_glyph\":{\"id\":\"17831\"},\"view\":{\"id\":\"17830\"}},\"id\":\"17829\",\"type\":\"GlyphRenderer\"},{\"attributes\":{},\"id\":\"17738\",\"type\":\"SaveTool\"},{\"attributes\":{\"bottom_units\":\"screen\",\"fill_alpha\":0.5,\"fill_color\":\"lightgrey\",\"left_units\":\"screen\",\"level\":\"overlay\",\"line_alpha\":1.0,\"line_color\":\"black\",\"line_dash\":[4,4],\"line_width\":2,\"right_units\":\"screen\",\"syncable\":false,\"top_units\":\"screen\"},\"id\":\"17815\",\"type\":\"BoxAnnotation\"},{\"attributes\":{\"overlay\":{\"id\":\"17743\"}},\"id\":\"17741\",\"type\":\"BoxZoomTool\"},{\"attributes\":{},\"id\":\"17742\",\"type\":\"ResetTool\"},{\"attributes\":{\"active_multi\":null,\"tools\":[{\"id\":\"17721\"},{\"id\":\"17738\"},{\"id\":\"17739\"},{\"id\":\"17740\"},{\"id\":\"17741\"},{\"id\":\"17742\"}]},\"id\":\"17744\",\"type\":\"Toolbar\"},{\"attributes\":{\"line_alpha\":0.1,\"line_color\":\"red\",\"line_width\":2,\"x\":{\"field\":\"year\"},\"y\":{\"field\":\"gross_rent\"}},\"id\":\"17827\",\"type\":\"Line\"},{\"attributes\":{\"below\":[{\"id\":\"17951\"}],\"center\":[{\"id\":\"17954\"},{\"id\":\"17958\"}],\"height\":300,\"left\":[{\"id\":\"17955\"}],\"margin\":[5,5,5,5],\"min_border_bottom\":10,\"min_border_left\":10,\"min_border_right\":10,\"min_border_top\":10,\"renderers\":[{\"id\":\"17978\"}],\"sizing_mode\":\"fixed\",\"title\":{\"id\":\"17943\"},\"toolbar\":{\"id\":\"17965\"},\"x_range\":{\"id\":\"17939\"},\"x_scale\":{\"id\":\"17947\"},\"y_range\":{\"id\":\"17864\"},\"y_scale\":{\"id\":\"17949\"}},\"id\":\"17942\",\"subtype\":\"Figure\",\"type\":\"Plot\"},{\"attributes\":{\"margin\":[0,0,0,0],\"name\":\"Column09989\"},\"id\":\"18022\",\"type\":\"Column\"},{\"attributes\":{\"text\":\"sale_price_sqr_foot  neighborhood: Alamo Square\",\"text_color\":\"black\",\"text_font_size\":\"12pt\"},\"id\":\"17943\",\"type\":\"Title\"},{\"attributes\":{\"axis\":{\"id\":\"17951\"},\"ticker\":{\"id\":\"17952\"}},\"id\":\"17954\",\"type\":\"Grid\"},{\"attributes\":{\"bottom_units\":\"screen\",\"fill_alpha\":0.5,\"fill_color\":\"lightgrey\",\"left_units\":\"screen\",\"level\":\"overlay\",\"line_alpha\":1.0,\"line_color\":\"black\",\"line_dash\":[4,4],\"line_width\":2,\"right_units\":\"screen\",\"syncable\":false,\"top_units\":\"screen\"},\"id\":\"17743\",\"type\":\"BoxAnnotation\"},{\"attributes\":{},\"id\":\"17952\",\"type\":\"BasicTicker\"},{\"attributes\":{\"end\":2016.0,\"reset_end\":2016.0,\"reset_start\":2010.0,\"start\":2010.0,\"tags\":[[[\"year\",\"year\",null]]]},\"id\":\"17939\",\"type\":\"Range1d\"},{\"attributes\":{\"client_comm_id\":\"0c307e0d51f046b38b28ad413207f60f\",\"comm_id\":\"f661b2a4af944eaaa523eb5df30eea78\",\"plot_id\":\"17707\"},\"id\":\"18281\",\"type\":\"panel.models.comm_manager.CommManager\"},{\"attributes\":{},\"id\":\"17947\",\"type\":\"LinearScale\"},{\"attributes\":{\"data\":{\"sale_price_sqr_foot\":{\"__ndarray__\":\"tQKjeIIVd0Do7CdydF51QGdijk899nhAaBKk2Jo5fkDGKCTbN2KBQPETFqRSxINAUB33UCbNhUA=\",\"dtype\":\"float64\",\"order\":\"little\",\"shape\":[7]},\"year\":[2010,2011,2012,2013,2014,2015,2016]},\"selected\":{\"id\":\"17897\"},\"selection_policy\":{\"id\":\"17920\"}},\"id\":\"17896\",\"type\":\"ColumnDataSource\"},{\"attributes\":{\"children\":[{\"id\":\"18027\"}],\"margin\":[0,0,0,0],\"name\":\"Row09988\"},\"id\":\"18023\",\"type\":\"Row\"},{\"attributes\":{\"axis_label\":\"Year\",\"formatter\":{\"id\":\"17982\"},\"major_label_policy\":{\"id\":\"17983\"},\"ticker\":{\"id\":\"17952\"}},\"id\":\"17951\",\"type\":\"LinearAxis\"},{\"attributes\":{},\"id\":\"17824\",\"type\":\"Selection\"},{\"attributes\":{},\"id\":\"17949\",\"type\":\"LinearScale\"},{\"attributes\":{\"data\":{\"sale_price_sqr_foot\":{\"__ndarray__\":\"Dkc7WO0yckCafszcbwhxQIGRs5ot42ZAJzog0LQ8eEAWMinKGEd+QI0V5FDt0IJAVCHcmLVPdUA=\",\"dtype\":\"float64\",\"order\":\"little\",\"shape\":[7]},\"year\":[2010,2011,2012,2013,2014,2015,2016]},\"selected\":{\"id\":\"17973\"},\"selection_policy\":{\"id\":\"18004\"}},\"id\":\"17972\",\"type\":\"ColumnDataSource\"},{\"attributes\":{\"text\":\"Top 10 Expensive Neighborhoods in SFO\",\"text_color\":\"black\",\"text_font_size\":\"12pt\"},\"id\":\"18028\",\"type\":\"Title\"},{\"attributes\":{},\"id\":\"17960\",\"type\":\"PanTool\"},{\"attributes\":{\"below\":[{\"id\":\"17802\"}],\"center\":[{\"id\":\"17805\"},{\"id\":\"17809\"}],\"height\":400,\"left\":[{\"id\":\"17806\"}],\"margin\":[5,5,5,5],\"min_border_bottom\":10,\"min_border_left\":10,\"min_border_right\":10,\"min_border_top\":10,\"renderers\":[{\"id\":\"17829\"}],\"sizing_mode\":\"fixed\",\"title\":{\"id\":\"17794\"},\"toolbar\":{\"id\":\"17816\"},\"width\":500,\"x_range\":{\"id\":\"17790\"},\"x_scale\":{\"id\":\"17798\"},\"y_range\":{\"id\":\"17791\"},\"y_scale\":{\"id\":\"17800\"}},\"id\":\"17793\",\"subtype\":\"Figure\",\"type\":\"Plot\"},{\"attributes\":{\"axis_label\":\"Avg. Sale Price per Square Foot\",\"formatter\":{\"id\":\"17985\"},\"major_label_policy\":{\"id\":\"17986\"},\"ticker\":{\"id\":\"17956\"}},\"id\":\"17955\",\"type\":\"LinearAxis\"},{\"attributes\":{\"axis\":{\"id\":\"17955\"},\"dimension\":1,\"ticker\":{\"id\":\"17956\"}},\"id\":\"17958\",\"type\":\"Grid\"},{\"attributes\":{},\"id\":\"17798\",\"type\":\"LinearScale\"},{\"attributes\":{},\"id\":\"17956\",\"type\":\"BasicTicker\"},{\"attributes\":{\"axis\":{\"id\":\"17802\"},\"ticker\":{\"id\":\"17803\"}},\"id\":\"17805\",\"type\":\"Grid\"},{\"attributes\":{},\"id\":\"17961\",\"type\":\"WheelZoomTool\"},{\"attributes\":{\"axis_label\":\"Year\",\"formatter\":{\"id\":\"17833\"},\"major_label_policy\":{\"id\":\"17834\"},\"ticker\":{\"id\":\"17803\"}},\"id\":\"17802\",\"type\":\"LinearAxis\"},{\"attributes\":{},\"id\":\"17800\",\"type\":\"LinearScale\"},{\"attributes\":{\"axis\":{\"id\":\"17806\"},\"dimension\":1,\"ticker\":{\"id\":\"17807\"}},\"id\":\"17809\",\"type\":\"Grid\"},{\"attributes\":{},\"id\":\"17959\",\"type\":\"SaveTool\"},{\"attributes\":{\"overlay\":{\"id\":\"17964\"}},\"id\":\"17962\",\"type\":\"BoxZoomTool\"},{\"attributes\":{},\"id\":\"17963\",\"type\":\"ResetTool\"},{\"attributes\":{},\"id\":\"17837\",\"type\":\"AllLabels\"},{\"attributes\":{},\"id\":\"17803\",\"type\":\"BasicTicker\"},{\"attributes\":{},\"id\":\"18066\",\"type\":\"CategoricalTickFormatter\"},{\"attributes\":{\"end\":2016.0,\"reset_end\":2016.0,\"reset_start\":2010.0,\"start\":2010.0,\"tags\":[[[\"year\",\"year\",null]]]},\"id\":\"17863\",\"type\":\"Range1d\"},{\"attributes\":{\"margin\":[5,5,5,5],\"name\":\"VSpacer09858\",\"sizing_mode\":\"stretch_height\"},\"id\":\"18020\",\"type\":\"Spacer\"},{\"attributes\":{\"bottom\":{\"value\":0},\"fill_alpha\":{\"value\":1.0},\"fill_color\":{\"value\":\"#30a2da\"},\"hatch_alpha\":{\"value\":1.0},\"hatch_color\":{\"value\":\"black\"},\"hatch_scale\":{\"value\":12.0},\"hatch_weight\":{\"value\":1.0},\"line_alpha\":{\"value\":1.0},\"line_cap\":{\"value\":\"butt\"},\"line_color\":{\"value\":\"black\"},\"line_dash\":{\"value\":[]},\"line_dash_offset\":{\"value\":0},\"line_join\":{\"value\":\"bevel\"},\"line_width\":{\"value\":1},\"top\":{\"field\":\"sale_price_sqr_foot\"},\"width\":{\"value\":0.8},\"x\":{\"field\":\"neighborhood\"}},\"id\":\"18064\",\"type\":\"VBar\"},{\"attributes\":{\"fill_color\":{\"value\":\"#30a2da\"},\"top\":{\"field\":\"sale_price_sqr_foot\"},\"width\":{\"value\":0.8},\"x\":{\"field\":\"neighborhood\"}},\"id\":\"18059\",\"type\":\"VBar\"},{\"attributes\":{\"text\":\"Average Price per SqFt by Year\",\"text_color\":\"black\",\"text_font_size\":\"12pt\"},\"id\":\"17867\",\"type\":\"Title\"},{\"attributes\":{},\"id\":\"17986\",\"type\":\"AllLabels\"},{\"attributes\":{},\"id\":\"18057\",\"type\":\"Selection\"},{\"attributes\":{\"end\":929.3801355198136,\"reset_end\":733.2177371101802,\"reset_start\":306.3294011864627,\"start\":0.0,\"tags\":[[[\"sale_price_sqr_foot\",\"sale_price_sqr_foot\",null]]]},\"id\":\"17864\",\"type\":\"Range1d\"},{\"attributes\":{\"fill_alpha\":{\"value\":0.1},\"fill_color\":{\"value\":\"#30a2da\"},\"line_alpha\":{\"value\":0.1},\"top\":{\"field\":\"sale_price_sqr_foot\"},\"width\":{\"value\":0.8},\"x\":{\"field\":\"neighborhood\"}},\"id\":\"18060\",\"type\":\"VBar\"},{\"attributes\":{\"margin\":[0,0,0,0],\"name\":\"Column09825\"},\"id\":\"17861\",\"type\":\"Column\"},{\"attributes\":{\"data_source\":{\"id\":\"18056\"},\"glyph\":{\"id\":\"18059\"},\"hover_glyph\":null,\"muted_glyph\":{\"id\":\"18061\"},\"nonselection_glyph\":{\"id\":\"18060\"},\"selection_glyph\":{\"id\":\"18064\"},\"view\":{\"id\":\"18063\"}},\"id\":\"18062\",\"type\":\"GlyphRenderer\"},{\"attributes\":{\"source\":{\"id\":\"18056\"}},\"id\":\"18063\",\"type\":\"CDSView\"},{\"attributes\":{\"margin\":[0,0,0,0],\"name\":\"Column09661\"},\"id\":\"17717\",\"type\":\"Column\"},{\"attributes\":{},\"id\":\"17985\",\"type\":\"BasicTickFormatter\"},{\"attributes\":{\"children\":[{\"id\":\"17935\"},{\"id\":\"18021\"}],\"margin\":[0,0,0,0],\"name\":\"Column09990\"},\"id\":\"17934\",\"type\":\"Column\"},{\"attributes\":{},\"id\":\"17884\",\"type\":\"PanTool\"},{\"attributes\":{\"data\":{\"neighborhood\":[\"Union Square District\",\"Merced Heights\",\"Miraloma Park\",\"Pacific Heights\",\"Westwood Park\",\"Telegraph Hill\",\"Presidio Heights\",\"Cow Hollow\",\"Potrero Hill\",\"South Beach\"],\"sale_price_sqr_foot\":{\"__ndarray__\":\"JRAUMfI/jEB9IrkvwqaIQFx/3pp8XohAFpsVUHKMhUBs0ERas3iFQL0KhXgNJIVAy835O80ahUANV25bts+EQJrMCuEbsIRAya3y7v5QhEA=\",\"dtype\":\"float64\",\"order\":\"little\",\"shape\":[10]}},\"selected\":{\"id\":\"18057\"},\"selection_policy\":{\"id\":\"18078\"}},\"id\":\"18056\",\"type\":\"ColumnDataSource\"},{\"attributes\":{\"fill_alpha\":{\"value\":0.2},\"fill_color\":{\"value\":\"#30a2da\"},\"line_alpha\":{\"value\":0.2},\"top\":{\"field\":\"sale_price_sqr_foot\"},\"width\":{\"value\":0.8},\"x\":{\"field\":\"neighborhood\"}},\"id\":\"18061\",\"type\":\"VBar\"},{\"attributes\":{\"children\":[{\"id\":\"17722\"}],\"margin\":[0,0,0,0],\"name\":\"Row09660\"},\"id\":\"17718\",\"type\":\"Row\"},{\"attributes\":{\"below\":[{\"id\":\"18036\"}],\"center\":[{\"id\":\"18038\"},{\"id\":\"18042\"}],\"height\":400,\"left\":[{\"id\":\"18039\"}],\"margin\":[5,5,5,5],\"min_border_bottom\":10,\"min_border_left\":10,\"min_border_right\":10,\"min_border_top\":10,\"renderers\":[{\"id\":\"18062\"}],\"sizing_mode\":\"fixed\",\"title\":{\"id\":\"18028\"},\"toolbar\":{\"id\":\"18049\"},\"width\":700,\"x_range\":{\"id\":\"18024\"},\"x_scale\":{\"id\":\"18032\"},\"y_range\":{\"id\":\"17864\"},\"y_scale\":{\"id\":\"18034\"}},\"id\":\"18027\",\"subtype\":\"Figure\",\"type\":\"Plot\"},{\"attributes\":{\"child\":{\"id\":\"17710\"},\"name\":\"Column09535\",\"title\":\"Welcome\"},\"id\":\"17714\",\"type\":\"Panel\"},{\"attributes\":{\"callback\":null,\"renderers\":[{\"id\":\"17902\"}],\"tags\":[\"hv_created\"],\"tooltips\":[[\"year\",\"@{year}\"],[\"sale_price_sqr_foot\",\"@{sale_price_sqr_foot}\"]]},\"id\":\"17865\",\"type\":\"HoverTool\"},{\"attributes\":{\"children\":[{\"id\":\"17788\"},{\"id\":\"17789\"}],\"margin\":[0,0,0,0],\"name\":\"Column09663\"},\"id\":\"17787\",\"type\":\"Column\"},{\"attributes\":{\"children\":[{\"id\":\"18097\"}],\"margin\":[0,0,0,0],\"name\":\"Row09995\"},\"id\":\"18095\",\"type\":\"Row\"},{\"attributes\":{\"data\":{\"lat\":[{\"__ndarray__\":\"LV+X4T/lQkB1AwXeyeNCQBmto6oJ3kJAvqQxWkfdQkA0DB8RU+JCQFbxRuaR40JAlWBxOPPfQkD430p2bOBCQHEDPj+M5EJA6DBfXoDlQkA/xty1hNxCQDZxcr9D3UJAw9hCkIPiQkDxaOOIteBCQL6kMVpH3UJAjGfQ0D/lQkCMZ9DQP+VCQAyOklfn4EJANnFyv0PdQkB7n6pCA+FCQMuhRbbz4UJAy6FFtvPhQkDidf2C3dxCQHiXi/hO3EJAxvmbUIjgQkCVYHE4899CQAd7E0Ny4kJAlWBxOPPfQkBxAz4/jORCQIOLFTWY5kJAXW3F/rLjQkDoMF9egOVCQIP6ljld5kJAY7SOqibcQkD430p2bOBCQOAtkKD43UJAf59x4UDkQkCO6QlLPOBCQDZxcr9D3UJA6DBfXoDlQkD430p2bOBCQApoImx45kJACmgibHjmQkBjtI6qJtxCQD/G3LWE3EJAnDOitDfgQkCVYHE4899CQOgwX16A5UJAvodLjjvdQkCVYHE4899CQC9uowG84UJAGa2jqgneQkB2/YLdsN1CQHEDPj+M5EJA6DBfXoDlQkAZraOqCd5CQH+fceFA5EJAjGfQ0D/lQkDgLZCg+N1CQApoImx45kJAyFuufmzgQkCMZ9DQP+VCQNVz0vvG40JAvqQxWkfdQkC7RPXWwN5CQOgwX16A5UJAgy9MpgreQkDgLZCg+N1CQOgwX16A5UJA\",\"dtype\":\"float64\",\"order\":\"little\",\"shape\":[69]}],\"lon\":[{\"__ndarray__\":\"L26jAbyZXsA5mE2AYZxewPfuj/eqmV7A2dMOf02aXsC1iZP7HZxewELKT6p9nF7AfVcE/1ufXsAtlbcjnJxewHe+nxovnV7AIHu9++ObXsBDxTh/E5xewIofY+5anF7A6Z/gYkWbXsADIVnABJxewNnTDn9Nml7AL26jAbyZXsAvbqMBvJlewCSvzjEgnV7Aih9j7lqcXsAnLPGAsp1ewE+XxcTmm17AT5fFxOabXsCkU1c+y5dewDY3picsn17AzOmymNiaXsB9VwT/W59ewEjdzr7ynl7AWoEhq1ufXsB3vp8aL51ewIjvxKwXnV7APz+MEB6dXsAge73745tewBU1mIbhnV7Aj+TyH9KdXsAtlbcjnJxewGmR7Xw/nV7AHcnlP6SZXsC6ZvLNNptewIofY+5anF7AIHu9++ObXsAtlbcjnJxewKuy74rgmV7Aq7LviuCZXsCP5PIf0p1ewEPFOH8TnF7ABoGVQ4ucXsB9VwT/W59ewCB7vfvjm17AxzNo6J+eXsB9VwT/W59ewOzAOSNKnV7A9+6P96qZXsA3oRABh5hewHe+nxovnV7AIHu9++ObXsD37o/3qplewB3J5T+kmV7AL26jAbyZXsBpke18P51ewKuy74rgmV7ARdeFH5ycXsAvbqMBvJlewAJIbeLkml7A2dMOf02aXsAvUb01sJ1ewCB7vfvjm17A/0KPGD2dXsBpke18P51ewFRcVfZdmV7A\",\"dtype\":\"float64\",\"order\":\"little\",\"shape\":[69]}],\"marker.color\":[{\"__ndarray__\":\"SZIkSZICpkCrqqqqqq+nQM3MzMzMHKJAAAAAAAA2rUCrqqqqqhWlQEmSJEmSAqZASZIkSZICpkAAAAAAAJWhQAAAAAAAUKNASZIkSZICpkCrqqqqqhWlQAAAAAAAgJ9AAAAAAIC4pUBJkiRJkgKmQKuqqqqqr6dAVVVVVVX2o0AAAAAAAFCjQAAAAAAA1ptAAAAAAACnpkDNzMzMzFKkQEmSJEmSAqZASZIkSZICpkAAAAAAAFyTQAAAAAAAIKdASZIkSZICpkAAAAAAADCpQEmSJEmSAqZASZIkSZICpkBJkiRJkgKmQFVVVVVV9qNAVVVVVVX2o0BJkiRJkgKmQEmSJEmSAqZAAAAAAACsqkAAAAAAAK+kQAAAAACA1qBAZmZmZmZUpEBVVVVVVfajQM3MzMzMyqhASZIkSZICpkBJkiRJkgKmQJqZmZmZXadAzczMzMwEpkAAAAAAAASjQAAAAACAZ6dASZIkSZICpkBJkiRJkgKmQEmSJEmSAqZASZIkSZICpkDNzMzMzByiQEmSJEmSAqZAzczMzMwcokBJkiRJkgKmQFVVVVVVz6RASZIkSZICpkAAAAAAAJCrQAAAAAAAZqBASZIkSZICpkAAAAAAAKemQEmSJEmSAqZASZIkSZICpkBVVVVVVfajQEmSJEmSAqZAAAAAAACSrEAAAAAAAKejQFVVVVVV9qNAAAAAAACVoUAAAAAAAO6uQFVVVVVV9qNA\",\"dtype\":\"float64\",\"order\":\"little\",\"shape\":[69]}],\"marker.size\":[{\"__ndarray__\":\"cJyd1VTgdkAk1Xd7HVZ3QMu7p//VkmlA/m3ou1d2gkDh3lCz40p8QJMjOSXCpnhA8UR6wAF7ekBgIJwN63N+QHYgjQJQXIJADVduW7bPhEAtmqsjEfByQA42LireL3tABPQiJJZpf0DNvwdH/RGEQIwgrDxBTHhATKx878x1eEBGXRUgYX18QOcoDRF0HXRAyf/3Apx+g0Br5HcBJvuDQEKNqFi3GHxAQJv/3Ow+dkAFP/VX/1NlQPmqSlDEDHhAfmgaicfaeECrA3m3FTuAQN85W0+CqXdAyXixJK7aeUCo3p7PEouAQBsbzgZFn3lA1YI2J6jjfUADLzpc59mAQOt1/4D+PYJAfSK5L8KmiEDjM3wxFTSBQFx/3pp8XohAcr9Bp4mxgUC9Hcljpi56QAabwse6W4BAhQqU+EOjfEAzwd8Vi/OAQA1GhppZunlANYyg6lAkf0A0VzbjjqF0QGONxdbeS25ATpTGpG5QfkBicP8ngaN4QBabFVByjIVAMlaax7lbd0AUODg4wwJ1QGCc43LsxYNAk1Rio9JxdECazArhG7CEQMvN+TvNGoVAb73/oN0Hg0DTKbSOXEllQMmt8u7+UIRAhuHC4SvSgUD/YX/xi4KAQL0KhXgNJIVAiyAuxmBWfUAlEBQx8j+MQEdUUCNnQnlAoAgieXXXckDK9HfV0Cd/QF1rdMb+OHNAQN/mqKGtgEBs0ERas3iFQIOO/MStBYJA\",\"dtype\":\"float64\",\"order\":\"little\",\"shape\":[69]}]},\"selected\":{\"id\":\"18111\"},\"selection_policy\":{\"id\":\"18110\"}},\"id\":\"17712\",\"type\":\"ColumnDataSource\"},{\"attributes\":{\"children\":[{\"id\":\"18018\"},{\"id\":\"18020\"}],\"margin\":[0,0,0,0],\"name\":\"Column09859\"},\"id\":\"18017\",\"type\":\"Column\"},{\"attributes\":{},\"id\":\"18067\",\"type\":\"AllLabels\"},{\"attributes\":{},\"id\":\"17876\",\"type\":\"BasicTicker\"},{\"attributes\":{\"bottom_units\":\"screen\",\"fill_alpha\":0.5,\"fill_color\":\"lightgrey\",\"left_units\":\"screen\",\"level\":\"overlay\",\"line_alpha\":1.0,\"line_color\":\"black\",\"line_dash\":[4,4],\"line_width\":2,\"right_units\":\"screen\",\"syncable\":false,\"top_units\":\"screen\"},\"id\":\"17964\",\"type\":\"BoxAnnotation\"},{\"attributes\":{\"data\":[{\"hovertemplate\":\"sale_price_sqr_foot=%{marker.size}<br>lat=%{lat}<br>log=%{lon}<br>gross_rent=%{marker.color}<extra></extra>\",\"legendgroup\":\"\",\"marker\":{\"coloraxis\":\"coloraxis\",\"sizemode\":\"area\",\"sizeref\":4.017747811875842},\"mode\":\"markers\",\"name\":\"\",\"showlegend\":false,\"subplot\":\"mapbox\",\"type\":\"scattermapbox\"}],\"data_sources\":[{\"id\":\"17712\"}],\"layout\":{\"coloraxis\":{\"colorbar\":{\"title\":{\"text\":\"gross_rent\"}},\"colorscale\":[[0.0,\"#000000\"],[0.0625,\"#001f4d\"],[0.125,\"#003786\"],[0.1875,\"#0e58a8\"],[0.25,\"#217eb8\"],[0.3125,\"#30a4ca\"],[0.375,\"#54c8df\"],[0.4375,\"#9be4ef\"],[0.5,\"#e1e9d1\"],[0.5625,\"#f3d573\"],[0.625,\"#e7b000\"],[0.6875,\"#da8200\"],[0.75,\"#c65400\"],[0.8125,\"#ac2301\"],[0.875,\"#820000\"],[0.9375,\"#4c0000\"],[1.0,\"#000000\"]]},\"legend\":{\"itemsizing\":\"constant\",\"tracegroupgap\":0},\"mapbox\":{\"accesstoken\":\"pk.eyJ1Ijoid2NoYW5jZSIsImEiOiJja215ejd6cmEwNHpqMm9sMnR4bXRtZHh5In0.vK8ZvzqQ1i4lNkaqVD4yow\",\"center\":{\"lat\":37.76064079710145,\"lon\":-122.43826449275363},\"domain\":{\"x\":[0.0,1.0],\"y\":[0.0,1.0]},\"zoom\":11},\"template\":{\"data\":{\"bar\":[{\"error_x\":{\"color\":\"#2a3f5f\"},\"error_y\":{\"color\":\"#2a3f5f\"},\"marker\":{\"line\":{\"color\":\"#E5ECF6\",\"width\":0.5}},\"type\":\"bar\"}],\"barpolar\":[{\"marker\":{\"line\":{\"color\":\"#E5ECF6\",\"width\":0.5}},\"type\":\"barpolar\"}],\"carpet\":[{\"aaxis\":{\"endlinecolor\":\"#2a3f5f\",\"gridcolor\":\"white\",\"linecolor\":\"white\",\"minorgridcolor\":\"white\",\"startlinecolor\":\"#2a3f5f\"},\"baxis\":{\"endlinecolor\":\"#2a3f5f\",\"gridcolor\":\"white\",\"linecolor\":\"white\",\"minorgridcolor\":\"white\",\"startlinecolor\":\"#2a3f5f\"},\"type\":\"carpet\"}],\"choropleth\":[{\"colorbar\":{\"outlinewidth\":0,\"ticks\":\"\"},\"type\":\"choropleth\"}],\"contour\":[{\"colorbar\":{\"outlinewidth\":0,\"ticks\":\"\"},\"colorscale\":[[0.0,\"#0d0887\"],[0.1111111111111111,\"#46039f\"],[0.2222222222222222,\"#7201a8\"],[0.3333333333333333,\"#9c179e\"],[0.4444444444444444,\"#bd3786\"],[0.5555555555555556,\"#d8576b\"],[0.6666666666666666,\"#ed7953\"],[0.7777777777777778,\"#fb9f3a\"],[0.8888888888888888,\"#fdca26\"],[1.0,\"#f0f921\"]],\"type\":\"contour\"}],\"contourcarpet\":[{\"colorbar\":{\"outlinewidth\":0,\"ticks\":\"\"},\"type\":\"contourcarpet\"}],\"heatmap\":[{\"colorbar\":{\"outlinewidth\":0,\"ticks\":\"\"},\"colorscale\":[[0.0,\"#0d0887\"],[0.1111111111111111,\"#46039f\"],[0.2222222222222222,\"#7201a8\"],[0.3333333333333333,\"#9c179e\"],[0.4444444444444444,\"#bd3786\"],[0.5555555555555556,\"#d8576b\"],[0.6666666666666666,\"#ed7953\"],[0.7777777777777778,\"#fb9f3a\"],[0.8888888888888888,\"#fdca26\"],[1.0,\"#f0f921\"]],\"type\":\"heatmap\"}],\"heatmapgl\":[{\"colorbar\":{\"outlinewidth\":0,\"ticks\":\"\"},\"colorscale\":[[0.0,\"#0d0887\"],[0.1111111111111111,\"#46039f\"],[0.2222222222222222,\"#7201a8\"],[0.3333333333333333,\"#9c179e\"],[0.4444444444444444,\"#bd3786\"],[0.5555555555555556,\"#d8576b\"],[0.6666666666666666,\"#ed7953\"],[0.7777777777777778,\"#fb9f3a\"],[0.8888888888888888,\"#fdca26\"],[1.0,\"#f0f921\"]],\"type\":\"heatmapgl\"}],\"histogram\":[{\"marker\":{\"colorbar\":{\"outlinewidth\":0,\"ticks\":\"\"}},\"type\":\"histogram\"}],\"histogram2d\":[{\"colorbar\":{\"outlinewidth\":0,\"ticks\":\"\"},\"colorscale\":[[0.0,\"#0d0887\"],[0.1111111111111111,\"#46039f\"],[0.2222222222222222,\"#7201a8\"],[0.3333333333333333,\"#9c179e\"],[0.4444444444444444,\"#bd3786\"],[0.5555555555555556,\"#d8576b\"],[0.6666666666666666,\"#ed7953\"],[0.7777777777777778,\"#fb9f3a\"],[0.8888888888888888,\"#fdca26\"],[1.0,\"#f0f921\"]],\"type\":\"histogram2d\"}],\"histogram2dcontour\":[{\"colorbar\":{\"outlinewidth\":0,\"ticks\":\"\"},\"colorscale\":[[0.0,\"#0d0887\"],[0.1111111111111111,\"#46039f\"],[0.2222222222222222,\"#7201a8\"],[0.3333333333333333,\"#9c179e\"],[0.4444444444444444,\"#bd3786\"],[0.5555555555555556,\"#d8576b\"],[0.6666666666666666,\"#ed7953\"],[0.7777777777777778,\"#fb9f3a\"],[0.8888888888888888,\"#fdca26\"],[1.0,\"#f0f921\"]],\"type\":\"histogram2dcontour\"}],\"mesh3d\":[{\"colorbar\":{\"outlinewidth\":0,\"ticks\":\"\"},\"type\":\"mesh3d\"}],\"parcoords\":[{\"line\":{\"colorbar\":{\"outlinewidth\":0,\"ticks\":\"\"}},\"type\":\"parcoords\"}],\"pie\":[{\"automargin\":true,\"type\":\"pie\"}],\"scatter\":[{\"marker\":{\"colorbar\":{\"outlinewidth\":0,\"ticks\":\"\"}},\"type\":\"scatter\"}],\"scatter3d\":[{\"line\":{\"colorbar\":{\"outlinewidth\":0,\"ticks\":\"\"}},\"marker\":{\"colorbar\":{\"outlinewidth\":0,\"ticks\":\"\"}},\"type\":\"scatter3d\"}],\"scattercarpet\":[{\"marker\":{\"colorbar\":{\"outlinewidth\":0,\"ticks\":\"\"}},\"type\":\"scattercarpet\"}],\"scattergeo\":[{\"marker\":{\"colorbar\":{\"outlinewidth\":0,\"ticks\":\"\"}},\"type\":\"scattergeo\"}],\"scattergl\":[{\"marker\":{\"colorbar\":{\"outlinewidth\":0,\"ticks\":\"\"}},\"type\":\"scattergl\"}],\"scattermapbox\":[{\"marker\":{\"colorbar\":{\"outlinewidth\":0,\"ticks\":\"\"}},\"type\":\"scattermapbox\"}],\"scatterpolar\":[{\"marker\":{\"colorbar\":{\"outlinewidth\":0,\"ticks\":\"\"}},\"type\":\"scatterpolar\"}],\"scatterpolargl\":[{\"marker\":{\"colorbar\":{\"outlinewidth\":0,\"ticks\":\"\"}},\"type\":\"scatterpolargl\"}],\"scatterternary\":[{\"marker\":{\"colorbar\":{\"outlinewidth\":0,\"ticks\":\"\"}},\"type\":\"scatterternary\"}],\"surface\":[{\"colorbar\":{\"outlinewidth\":0,\"ticks\":\"\"},\"colorscale\":[[0.0,\"#0d0887\"],[0.1111111111111111,\"#46039f\"],[0.2222222222222222,\"#7201a8\"],[0.3333333333333333,\"#9c179e\"],[0.4444444444444444,\"#bd3786\"],[0.5555555555555556,\"#d8576b\"],[0.6666666666666666,\"#ed7953\"],[0.7777777777777778,\"#fb9f3a\"],[0.8888888888888888,\"#fdca26\"],[1.0,\"#f0f921\"]],\"type\":\"surface\"}],\"table\":[{\"cells\":{\"fill\":{\"color\":\"#EBF0F8\"},\"line\":{\"color\":\"white\"}},\"header\":{\"fill\":{\"color\":\"#C8D4E3\"},\"line\":{\"color\":\"white\"}},\"type\":\"table\"}]},\"layout\":{\"annotationdefaults\":{\"arrowcolor\":\"#2a3f5f\",\"arrowhead\":0,\"arrowwidth\":1},\"autotypenumbers\":\"strict\",\"coloraxis\":{\"colorbar\":{\"outlinewidth\":0,\"ticks\":\"\"}},\"colorscale\":{\"diverging\":[[0,\"#8e0152\"],[0.1,\"#c51b7d\"],[0.2,\"#de77ae\"],[0.3,\"#f1b6da\"],[0.4,\"#fde0ef\"],[0.5,\"#f7f7f7\"],[0.6,\"#e6f5d0\"],[0.7,\"#b8e186\"],[0.8,\"#7fbc41\"],[0.9,\"#4d9221\"],[1,\"#276419\"]],\"sequential\":[[0.0,\"#0d0887\"],[0.1111111111111111,\"#46039f\"],[0.2222222222222222,\"#7201a8\"],[0.3333333333333333,\"#9c179e\"],[0.4444444444444444,\"#bd3786\"],[0.5555555555555556,\"#d8576b\"],[0.6666666666666666,\"#ed7953\"],[0.7777777777777778,\"#fb9f3a\"],[0.8888888888888888,\"#fdca26\"],[1.0,\"#f0f921\"]],\"sequentialminus\":[[0.0,\"#0d0887\"],[0.1111111111111111,\"#46039f\"],[0.2222222222222222,\"#7201a8\"],[0.3333333333333333,\"#9c179e\"],[0.4444444444444444,\"#bd3786\"],[0.5555555555555556,\"#d8576b\"],[0.6666666666666666,\"#ed7953\"],[0.7777777777777778,\"#fb9f3a\"],[0.8888888888888888,\"#fdca26\"],[1.0,\"#f0f921\"]]},\"colorway\":[\"#636efa\",\"#EF553B\",\"#00cc96\",\"#ab63fa\",\"#FFA15A\",\"#19d3f3\",\"#FF6692\",\"#B6E880\",\"#FF97FF\",\"#FECB52\"],\"font\":{\"color\":\"#2a3f5f\"},\"geo\":{\"bgcolor\":\"white\",\"lakecolor\":\"white\",\"landcolor\":\"#E5ECF6\",\"showlakes\":true,\"showland\":true,\"subunitcolor\":\"white\"},\"hoverlabel\":{\"align\":\"left\"},\"hovermode\":\"closest\",\"mapbox\":{\"style\":\"light\"},\"paper_bgcolor\":\"white\",\"plot_bgcolor\":\"#E5ECF6\",\"polar\":{\"angularaxis\":{\"gridcolor\":\"white\",\"linecolor\":\"white\",\"ticks\":\"\"},\"bgcolor\":\"#E5ECF6\",\"radialaxis\":{\"gridcolor\":\"white\",\"linecolor\":\"white\",\"ticks\":\"\"}},\"scene\":{\"xaxis\":{\"backgroundcolor\":\"#E5ECF6\",\"gridcolor\":\"white\",\"gridwidth\":2,\"linecolor\":\"white\",\"showbackground\":true,\"ticks\":\"\",\"zerolinecolor\":\"white\"},\"yaxis\":{\"backgroundcolor\":\"#E5ECF6\",\"gridcolor\":\"white\",\"gridwidth\":2,\"linecolor\":\"white\",\"showbackground\":true,\"ticks\":\"\",\"zerolinecolor\":\"white\"},\"zaxis\":{\"backgroundcolor\":\"#E5ECF6\",\"gridcolor\":\"white\",\"gridwidth\":2,\"linecolor\":\"white\",\"showbackground\":true,\"ticks\":\"\",\"zerolinecolor\":\"white\"}},\"shapedefaults\":{\"line\":{\"color\":\"#2a3f5f\"}},\"ternary\":{\"aaxis\":{\"gridcolor\":\"white\",\"linecolor\":\"white\",\"ticks\":\"\"},\"baxis\":{\"gridcolor\":\"white\",\"linecolor\":\"white\",\"ticks\":\"\"},\"bgcolor\":\"#E5ECF6\",\"caxis\":{\"gridcolor\":\"white\",\"linecolor\":\"white\",\"ticks\":\"\"}},\"title\":{\"x\":0.05},\"xaxis\":{\"automargin\":true,\"gridcolor\":\"white\",\"linecolor\":\"white\",\"ticks\":\"\",\"title\":{\"standoff\":15},\"zerolinecolor\":\"white\",\"zerolinewidth\":2},\"yaxis\":{\"automargin\":true,\"gridcolor\":\"white\",\"linecolor\":\"white\",\"ticks\":\"\",\"title\":{\"standoff\":15},\"zerolinecolor\":\"white\",\"zerolinewidth\":2}}},\"title\":{\"text\":\"Average Sale Price Per Square Good and Gross Rent in San Francisco\"}},\"margin\":[5,5,5,5],\"name\":\"Plotly09533\",\"viewport_update_throttle\":200},\"id\":\"17713\",\"type\":\"panel.models.plotly.PlotlyPlot\"},{\"attributes\":{\"children\":[{\"id\":\"18102\"}],\"margin\":[0,0,0,0],\"name\":\"Row10001\"},\"id\":\"18100\",\"type\":\"Row\"},{\"attributes\":{},\"id\":\"17836\",\"type\":\"BasicTickFormatter\"},{\"attributes\":{\"margin\":[0,0,0,0],\"name\":\"Column09996\"},\"id\":\"18094\",\"type\":\"Column\"},{\"attributes\":{\"below\":[{\"id\":\"17875\"}],\"center\":[{\"id\":\"17878\"},{\"id\":\"17882\"}],\"height\":400,\"left\":[{\"id\":\"17879\"}],\"margin\":[5,5,5,5],\"min_border_bottom\":10,\"min_border_left\":10,\"min_border_right\":10,\"min_border_top\":10,\"renderers\":[{\"id\":\"17902\"}],\"sizing_mode\":\"fixed\",\"title\":{\"id\":\"17867\"},\"toolbar\":{\"id\":\"17889\"},\"width\":500,\"x_range\":{\"id\":\"17863\"},\"x_scale\":{\"id\":\"17871\"},\"y_range\":{\"id\":\"17864\"},\"y_scale\":{\"id\":\"17873\"}},\"id\":\"17866\",\"subtype\":\"Figure\",\"type\":\"Plot\"},{\"attributes\":{\"children\":[{\"id\":\"18099\"},{\"id\":\"18100\"}],\"margin\":[0,0,0,0],\"name\":\"Column09998\"},\"id\":\"18098\",\"type\":\"Column\"},{\"attributes\":{},\"id\":\"17871\",\"type\":\"LinearScale\"},{\"attributes\":{},\"id\":\"18032\",\"type\":\"CategoricalScale\"},{\"attributes\":{},\"id\":\"17775\",\"type\":\"UnionRenderers\"},{\"attributes\":{},\"id\":\"17873\",\"type\":\"LinearScale\"},{\"attributes\":{\"factors\":[\"Union Square District\",\"Merced Heights\",\"Miraloma Park\",\"Pacific Heights\",\"Westwood Park\",\"Telegraph Hill\",\"Presidio Heights\",\"Cow Hollow\",\"Potrero Hill\",\"South Beach\"],\"tags\":[[[\"neighborhood\",\"neighborhood\",null]]]},\"id\":\"18024\",\"type\":\"FactorRange\"},{\"attributes\":{\"data\":[{\"dimensions\":[{\"label\":\"sale_price_sqr_foot\"},{\"label\":\"housing_units\"},{\"label\":\"gross_rent\"}],\"domain\":{\"x\":[0.0,1.0],\"y\":[0.0,1.0]},\"line\":{\"coloraxis\":\"coloraxis\"},\"name\":\"\",\"type\":\"parcoords\"}],\"data_sources\":[{\"id\":\"18096\"}],\"layout\":{\"coloraxis\":{\"colorbar\":{\"title\":{\"text\":\"sale_price_sqr_foot\"}},\"colorscale\":[[0.0,\"#0d0887\"],[0.1111111111111111,\"#46039f\"],[0.2222222222222222,\"#7201a8\"],[0.3333333333333333,\"#9c179e\"],[0.4444444444444444,\"#bd3786\"],[0.5555555555555556,\"#d8576b\"],[0.6666666666666666,\"#ed7953\"],[0.7777777777777778,\"#fb9f3a\"],[0.8888888888888888,\"#fdca26\"],[1.0,\"#f0f921\"]]},\"legend\":{\"tracegroupgap\":0},\"margin\":{\"t\":60},\"template\":{\"data\":{\"bar\":[{\"error_x\":{\"color\":\"#2a3f5f\"},\"error_y\":{\"color\":\"#2a3f5f\"},\"marker\":{\"line\":{\"color\":\"#E5ECF6\",\"width\":0.5}},\"type\":\"bar\"}],\"barpolar\":[{\"marker\":{\"line\":{\"color\":\"#E5ECF6\",\"width\":0.5}},\"type\":\"barpolar\"}],\"carpet\":[{\"aaxis\":{\"endlinecolor\":\"#2a3f5f\",\"gridcolor\":\"white\",\"linecolor\":\"white\",\"minorgridcolor\":\"white\",\"startlinecolor\":\"#2a3f5f\"},\"baxis\":{\"endlinecolor\":\"#2a3f5f\",\"gridcolor\":\"white\",\"linecolor\":\"white\",\"minorgridcolor\":\"white\",\"startlinecolor\":\"#2a3f5f\"},\"type\":\"carpet\"}],\"choropleth\":[{\"colorbar\":{\"outlinewidth\":0,\"ticks\":\"\"},\"type\":\"choropleth\"}],\"contour\":[{\"colorbar\":{\"outlinewidth\":0,\"ticks\":\"\"},\"colorscale\":[[0.0,\"#0d0887\"],[0.1111111111111111,\"#46039f\"],[0.2222222222222222,\"#7201a8\"],[0.3333333333333333,\"#9c179e\"],[0.4444444444444444,\"#bd3786\"],[0.5555555555555556,\"#d8576b\"],[0.6666666666666666,\"#ed7953\"],[0.7777777777777778,\"#fb9f3a\"],[0.8888888888888888,\"#fdca26\"],[1.0,\"#f0f921\"]],\"type\":\"contour\"}],\"contourcarpet\":[{\"colorbar\":{\"outlinewidth\":0,\"ticks\":\"\"},\"type\":\"contourcarpet\"}],\"heatmap\":[{\"colorbar\":{\"outlinewidth\":0,\"ticks\":\"\"},\"colorscale\":[[0.0,\"#0d0887\"],[0.1111111111111111,\"#46039f\"],[0.2222222222222222,\"#7201a8\"],[0.3333333333333333,\"#9c179e\"],[0.4444444444444444,\"#bd3786\"],[0.5555555555555556,\"#d8576b\"],[0.6666666666666666,\"#ed7953\"],[0.7777777777777778,\"#fb9f3a\"],[0.8888888888888888,\"#fdca26\"],[1.0,\"#f0f921\"]],\"type\":\"heatmap\"}],\"heatmapgl\":[{\"colorbar\":{\"outlinewidth\":0,\"ticks\":\"\"},\"colorscale\":[[0.0,\"#0d0887\"],[0.1111111111111111,\"#46039f\"],[0.2222222222222222,\"#7201a8\"],[0.3333333333333333,\"#9c179e\"],[0.4444444444444444,\"#bd3786\"],[0.5555555555555556,\"#d8576b\"],[0.6666666666666666,\"#ed7953\"],[0.7777777777777778,\"#fb9f3a\"],[0.8888888888888888,\"#fdca26\"],[1.0,\"#f0f921\"]],\"type\":\"heatmapgl\"}],\"histogram\":[{\"marker\":{\"colorbar\":{\"outlinewidth\":0,\"ticks\":\"\"}},\"type\":\"histogram\"}],\"histogram2d\":[{\"colorbar\":{\"outlinewidth\":0,\"ticks\":\"\"},\"colorscale\":[[0.0,\"#0d0887\"],[0.1111111111111111,\"#46039f\"],[0.2222222222222222,\"#7201a8\"],[0.3333333333333333,\"#9c179e\"],[0.4444444444444444,\"#bd3786\"],[0.5555555555555556,\"#d8576b\"],[0.6666666666666666,\"#ed7953\"],[0.7777777777777778,\"#fb9f3a\"],[0.8888888888888888,\"#fdca26\"],[1.0,\"#f0f921\"]],\"type\":\"histogram2d\"}],\"histogram2dcontour\":[{\"colorbar\":{\"outlinewidth\":0,\"ticks\":\"\"},\"colorscale\":[[0.0,\"#0d0887\"],[0.1111111111111111,\"#46039f\"],[0.2222222222222222,\"#7201a8\"],[0.3333333333333333,\"#9c179e\"],[0.4444444444444444,\"#bd3786\"],[0.5555555555555556,\"#d8576b\"],[0.6666666666666666,\"#ed7953\"],[0.7777777777777778,\"#fb9f3a\"],[0.8888888888888888,\"#fdca26\"],[1.0,\"#f0f921\"]],\"type\":\"histogram2dcontour\"}],\"mesh3d\":[{\"colorbar\":{\"outlinewidth\":0,\"ticks\":\"\"},\"type\":\"mesh3d\"}],\"parcoords\":[{\"line\":{\"colorbar\":{\"outlinewidth\":0,\"ticks\":\"\"}},\"type\":\"parcoords\"}],\"pie\":[{\"automargin\":true,\"type\":\"pie\"}],\"scatter\":[{\"marker\":{\"colorbar\":{\"outlinewidth\":0,\"ticks\":\"\"}},\"type\":\"scatter\"}],\"scatter3d\":[{\"line\":{\"colorbar\":{\"outlinewidth\":0,\"ticks\":\"\"}},\"marker\":{\"colorbar\":{\"outlinewidth\":0,\"ticks\":\"\"}},\"type\":\"scatter3d\"}],\"scattercarpet\":[{\"marker\":{\"colorbar\":{\"outlinewidth\":0,\"ticks\":\"\"}},\"type\":\"scattercarpet\"}],\"scattergeo\":[{\"marker\":{\"colorbar\":{\"outlinewidth\":0,\"ticks\":\"\"}},\"type\":\"scattergeo\"}],\"scattergl\":[{\"marker\":{\"colorbar\":{\"outlinewidth\":0,\"ticks\":\"\"}},\"type\":\"scattergl\"}],\"scattermapbox\":[{\"marker\":{\"colorbar\":{\"outlinewidth\":0,\"ticks\":\"\"}},\"type\":\"scattermapbox\"}],\"scatterpolar\":[{\"marker\":{\"colorbar\":{\"outlinewidth\":0,\"ticks\":\"\"}},\"type\":\"scatterpolar\"}],\"scatterpolargl\":[{\"marker\":{\"colorbar\":{\"outlinewidth\":0,\"ticks\":\"\"}},\"type\":\"scatterpolargl\"}],\"scatterternary\":[{\"marker\":{\"colorbar\":{\"outlinewidth\":0,\"ticks\":\"\"}},\"type\":\"scatterternary\"}],\"surface\":[{\"colorbar\":{\"outlinewidth\":0,\"ticks\":\"\"},\"colorscale\":[[0.0,\"#0d0887\"],[0.1111111111111111,\"#46039f\"],[0.2222222222222222,\"#7201a8\"],[0.3333333333333333,\"#9c179e\"],[0.4444444444444444,\"#bd3786\"],[0.5555555555555556,\"#d8576b\"],[0.6666666666666666,\"#ed7953\"],[0.7777777777777778,\"#fb9f3a\"],[0.8888888888888888,\"#fdca26\"],[1.0,\"#f0f921\"]],\"type\":\"surface\"}],\"table\":[{\"cells\":{\"fill\":{\"color\":\"#EBF0F8\"},\"line\":{\"color\":\"white\"}},\"header\":{\"fill\":{\"color\":\"#C8D4E3\"},\"line\":{\"color\":\"white\"}},\"type\":\"table\"}]},\"layout\":{\"annotationdefaults\":{\"arrowcolor\":\"#2a3f5f\",\"arrowhead\":0,\"arrowwidth\":1},\"autotypenumbers\":\"strict\",\"coloraxis\":{\"colorbar\":{\"outlinewidth\":0,\"ticks\":\"\"}},\"colorscale\":{\"diverging\":[[0,\"#8e0152\"],[0.1,\"#c51b7d\"],[0.2,\"#de77ae\"],[0.3,\"#f1b6da\"],[0.4,\"#fde0ef\"],[0.5,\"#f7f7f7\"],[0.6,\"#e6f5d0\"],[0.7,\"#b8e186\"],[0.8,\"#7fbc41\"],[0.9,\"#4d9221\"],[1,\"#276419\"]],\"sequential\":[[0.0,\"#0d0887\"],[0.1111111111111111,\"#46039f\"],[0.2222222222222222,\"#7201a8\"],[0.3333333333333333,\"#9c179e\"],[0.4444444444444444,\"#bd3786\"],[0.5555555555555556,\"#d8576b\"],[0.6666666666666666,\"#ed7953\"],[0.7777777777777778,\"#fb9f3a\"],[0.8888888888888888,\"#fdca26\"],[1.0,\"#f0f921\"]],\"sequentialminus\":[[0.0,\"#0d0887\"],[0.1111111111111111,\"#46039f\"],[0.2222222222222222,\"#7201a8\"],[0.3333333333333333,\"#9c179e\"],[0.4444444444444444,\"#bd3786\"],[0.5555555555555556,\"#d8576b\"],[0.6666666666666666,\"#ed7953\"],[0.7777777777777778,\"#fb9f3a\"],[0.8888888888888888,\"#fdca26\"],[1.0,\"#f0f921\"]]},\"colorway\":[\"#636efa\",\"#EF553B\",\"#00cc96\",\"#ab63fa\",\"#FFA15A\",\"#19d3f3\",\"#FF6692\",\"#B6E880\",\"#FF97FF\",\"#FECB52\"],\"font\":{\"color\":\"#2a3f5f\"},\"geo\":{\"bgcolor\":\"white\",\"lakecolor\":\"white\",\"landcolor\":\"#E5ECF6\",\"showlakes\":true,\"showland\":true,\"subunitcolor\":\"white\"},\"hoverlabel\":{\"align\":\"left\"},\"hovermode\":\"closest\",\"mapbox\":{\"style\":\"light\"},\"paper_bgcolor\":\"white\",\"plot_bgcolor\":\"#E5ECF6\",\"polar\":{\"angularaxis\":{\"gridcolor\":\"white\",\"linecolor\":\"white\",\"ticks\":\"\"},\"bgcolor\":\"#E5ECF6\",\"radialaxis\":{\"gridcolor\":\"white\",\"linecolor\":\"white\",\"ticks\":\"\"}},\"scene\":{\"xaxis\":{\"backgroundcolor\":\"#E5ECF6\",\"gridcolor\":\"white\",\"gridwidth\":2,\"linecolor\":\"white\",\"showbackground\":true,\"ticks\":\"\",\"zerolinecolor\":\"white\"},\"yaxis\":{\"backgroundcolor\":\"#E5ECF6\",\"gridcolor\":\"white\",\"gridwidth\":2,\"linecolor\":\"white\",\"showbackground\":true,\"ticks\":\"\",\"zerolinecolor\":\"white\"},\"zaxis\":{\"backgroundcolor\":\"#E5ECF6\",\"gridcolor\":\"white\",\"gridwidth\":2,\"linecolor\":\"white\",\"showbackground\":true,\"ticks\":\"\",\"zerolinecolor\":\"white\"}},\"shapedefaults\":{\"line\":{\"color\":\"#2a3f5f\"}},\"ternary\":{\"aaxis\":{\"gridcolor\":\"white\",\"linecolor\":\"white\",\"ticks\":\"\"},\"baxis\":{\"gridcolor\":\"white\",\"linecolor\":\"white\",\"ticks\":\"\"},\"bgcolor\":\"#E5ECF6\",\"caxis\":{\"gridcolor\":\"white\",\"linecolor\":\"white\",\"ticks\":\"\"}},\"title\":{\"x\":0.05},\"xaxis\":{\"automargin\":true,\"gridcolor\":\"white\",\"linecolor\":\"white\",\"ticks\":\"\",\"title\":{\"standoff\":15},\"zerolinecolor\":\"white\",\"zerolinewidth\":2},\"yaxis\":{\"automargin\":true,\"gridcolor\":\"white\",\"linecolor\":\"white\",\"ticks\":\"\",\"title\":{\"standoff\":15},\"zerolinecolor\":\"white\",\"zerolinewidth\":2}}}},\"margin\":[5,5,5,5],\"name\":\"interactive09991\",\"viewport_update_throttle\":200},\"id\":\"18097\",\"type\":\"panel.models.plotly.PlotlyPlot\"},{\"attributes\":{\"axis\":{\"id\":\"17875\"},\"ticker\":{\"id\":\"17876\"}},\"id\":\"17878\",\"type\":\"Grid\"},{\"attributes\":{},\"id\":\"17810\",\"type\":\"SaveTool\"},{\"attributes\":{\"children\":[{\"id\":\"17717\"},{\"id\":\"17718\"}],\"margin\":[0,0,0,0],\"name\":\"Column09537\"},\"id\":\"17716\",\"type\":\"Column\"},{\"attributes\":{\"axis_label\":\"Year\",\"formatter\":{\"id\":\"17906\"},\"major_label_policy\":{\"id\":\"17907\"},\"ticker\":{\"id\":\"17876\"}},\"id\":\"17875\",\"type\":\"LinearAxis\"},{\"attributes\":{\"data\":{\"gross_rent\":[1239,1530,2324,2971,3528,3739,4390],\"year\":[2010,2011,2012,2013,2014,2015,2016]},\"selected\":{\"id\":\"17824\"},\"selection_policy\":{\"id\":\"17847\"}},\"id\":\"17823\",\"type\":\"ColumnDataSource\"},{\"attributes\":{\"child\":{\"id\":\"17934\"},\"name\":\"Column09990\",\"title\":\"Neighborhood Analysis\"},\"id\":\"18091\",\"type\":\"Panel\"},{\"attributes\":{\"axis\":{\"id\":\"18036\"},\"grid_line_color\":null,\"ticker\":null},\"id\":\"18038\",\"type\":\"Grid\"},{\"attributes\":{},\"id\":\"18037\",\"type\":\"CategoricalTicker\"},{\"attributes\":{\"axis\":{\"id\":\"17879\"},\"dimension\":1,\"ticker\":{\"id\":\"17880\"}},\"id\":\"17882\",\"type\":\"Grid\"},{\"attributes\":{\"data\":{\"dimensions.0.values\":[{\"__ndarray__\":\"JRAUMfI/jEB9IrkvwqaIQFx/3pp8XohAFpsVUHKMhUBs0ERas3iFQL0KhXgNJIVAy835O80ahUANV25bts+EQJrMCuEbsIRAya3y7v5QhEA=\",\"dtype\":\"float64\",\"order\":\"little\",\"shape\":[10]}],\"dimensions.1.values\":[{\"__ndarray__\":\"AAAAAE4JF0EAAAAA8DYXQQAAAAB98hZBAAAAAIQYF0EAAAAAXFUXQQAAAACEGBdBAAAAAGAOF0EAAAAAhBgXQQAAAACEGBdBAAAAAPTvFkE=\",\"dtype\":\"float64\",\"order\":\"little\",\"shape\":[10]}],\"dimensions.2.values\":[{\"__ndarray__\":\"VVVVVVX2o0AAAAAAAKyqQAAAAACA1qBASZIkSZICpkAAAAAAAO6uQEmSJEmSAqZAVVVVVVXPpEBJkiRJkgKmQEmSJEmSAqZAAAAAAABmoEA=\",\"dtype\":\"float64\",\"order\":\"little\",\"shape\":[10]}],\"line.color\":[{\"__ndarray__\":\"JRAUMfI/jEB9IrkvwqaIQFx/3pp8XohAFpsVUHKMhUBs0ERas3iFQL0KhXgNJIVAy835O80ahUANV25bts+EQJrMCuEbsIRAya3y7v5QhEA=\",\"dtype\":\"float64\",\"order\":\"little\",\"shape\":[10]}]},\"selected\":{\"id\":\"18143\"},\"selection_policy\":{\"id\":\"18142\"}},\"id\":\"18096\",\"type\":\"ColumnDataSource\"},{\"attributes\":{},\"id\":\"18070\",\"type\":\"AllLabels\"},{\"attributes\":{\"callback\":null,\"renderers\":[{\"id\":\"18062\"}],\"tags\":[\"hv_created\"],\"tooltips\":[[\"neighborhood\",\"@{neighborhood}\"],[\"sale_price_sqr_foot\",\"@{sale_price_sqr_foot}\"]]},\"id\":\"18026\",\"type\":\"HoverTool\"},{\"attributes\":{},\"id\":\"17811\",\"type\":\"PanTool\"},{\"attributes\":{\"axis_label\":\"USD\",\"formatter\":{\"id\":\"17909\"},\"major_label_policy\":{\"id\":\"17910\"},\"ticker\":{\"id\":\"17880\"}},\"id\":\"17879\",\"type\":\"LinearAxis\"},{\"attributes\":{},\"id\":\"18034\",\"type\":\"LinearScale\"},{\"attributes\":{},\"id\":\"17880\",\"type\":\"BasicTicker\"},{\"attributes\":{\"axis\":{\"id\":\"18039\"},\"dimension\":1,\"grid_line_color\":null,\"ticker\":null},\"id\":\"18042\",\"type\":\"Grid\"},{\"attributes\":{},\"id\":\"17885\",\"type\":\"WheelZoomTool\"},{\"attributes\":{\"callback\":null,\"renderers\":[{\"id\":\"17829\"}],\"tags\":[\"hv_created\"],\"tooltips\":[[\"year\",\"@{year}\"],[\"gross_rent\",\"@{gross_rent}\"]]},\"id\":\"17792\",\"type\":\"HoverTool\"},{\"attributes\":{},\"id\":\"18069\",\"type\":\"BasicTickFormatter\"},{\"attributes\":{},\"id\":\"18044\",\"type\":\"PanTool\"},{\"attributes\":{\"axis_label\":\"Neighborhood\",\"formatter\":{\"id\":\"18066\"},\"major_label_orientation\":1.5707963267948966,\"major_label_policy\":{\"id\":\"18067\"},\"ticker\":{\"id\":\"18037\"}},\"id\":\"18036\",\"type\":\"CategoricalAxis\"},{\"attributes\":{},\"id\":\"17833\",\"type\":\"BasicTickFormatter\"},{\"attributes\":{},\"id\":\"17883\",\"type\":\"SaveTool\"},{\"attributes\":{\"children\":[{\"id\":\"18094\"},{\"id\":\"18095\"}],\"margin\":[0,0,0,0],\"name\":\"Column09992\"},\"id\":\"18093\",\"type\":\"Column\"},{\"attributes\":{\"axis_label\":\"Avg. Sale Price per Square Foot\",\"formatter\":{\"id\":\"18069\"},\"major_label_policy\":{\"id\":\"18070\"},\"ticker\":{\"id\":\"18040\"}},\"id\":\"18039\",\"type\":\"LinearAxis\"},{\"attributes\":{\"overlay\":{\"id\":\"17888\"}},\"id\":\"17886\",\"type\":\"BoxZoomTool\"},{\"attributes\":{\"margin\":[0,0,0,0],\"tabs\":[{\"id\":\"17714\"},{\"id\":\"17933\"},{\"id\":\"18091\"},{\"id\":\"18103\"},{\"id\":\"18109\"}]},\"id\":\"17709\",\"type\":\"Tabs\"},{\"attributes\":{\"children\":[{\"id\":\"18105\"},{\"id\":\"18106\"}],\"margin\":[0,0,0,0],\"name\":\"Column12649\"},\"id\":\"18104\",\"type\":\"Column\"},{\"attributes\":{},\"id\":\"17887\",\"type\":\"ResetTool\"},{\"attributes\":{\"margin\":[0,0,0,0],\"name\":\"Column10002\"},\"id\":\"18099\",\"type\":\"Column\"},{\"attributes\":{\"active_multi\":null,\"tools\":[{\"id\":\"17865\"},{\"id\":\"17883\"},{\"id\":\"17884\"},{\"id\":\"17885\"},{\"id\":\"17886\"},{\"id\":\"17887\"}]},\"id\":\"17889\",\"type\":\"Toolbar\"},{\"attributes\":{\"line_color\":\"red\",\"line_width\":2,\"x\":{\"field\":\"year\"},\"y\":{\"field\":\"gross_rent\"}},\"id\":\"17831\",\"type\":\"Line\"},{\"attributes\":{\"child\":{\"id\":\"17715\"},\"name\":\"Row09826\",\"title\":\"Yearly Market Analysis\"},\"id\":\"17933\",\"type\":\"Panel\"},{\"attributes\":{\"children\":[{\"id\":\"17716\"},{\"id\":\"17787\"},{\"id\":\"17860\"}],\"margin\":[0,0,0,0],\"name\":\"Row09826\"},\"id\":\"17715\",\"type\":\"Row\"},{\"attributes\":{\"children\":[{\"id\":\"17866\"}],\"margin\":[0,0,0,0],\"name\":\"Row09824\"},\"id\":\"17862\",\"type\":\"Row\"},{\"attributes\":{\"data\":[{\"dimensions\":[{\"label\":\"neighborhood\"},{\"label\":\"sale_price_sqr_foot\"},{\"label\":\"housing_units\"},{\"label\":\"gross_rent\"}],\"domain\":{\"x\":[0.0,1.0],\"y\":[0.0,1.0]},\"line\":{\"coloraxis\":\"coloraxis\"},\"name\":\"\",\"type\":\"parcats\"}],\"data_sources\":[{\"id\":\"18101\"}],\"layout\":{\"coloraxis\":{\"colorbar\":{\"title\":{\"text\":\"sale_price_sqr_foot\"}},\"colorscale\":[[0.0,\"#000004\"],[0.1111111111111111,\"#1b0c41\"],[0.2222222222222222,\"#4a0c6b\"],[0.3333333333333333,\"#781c6d\"],[0.4444444444444444,\"#a52c60\"],[0.5555555555555556,\"#cf4446\"],[0.6666666666666666,\"#ed6925\"],[0.7777777777777778,\"#fb9b06\"],[0.8888888888888888,\"#f7d13d\"],[1.0,\"#fcffa4\"]]},\"legend\":{\"tracegroupgap\":0},\"margin\":{\"t\":60},\"template\":{\"data\":{\"bar\":[{\"error_x\":{\"color\":\"#2a3f5f\"},\"error_y\":{\"color\":\"#2a3f5f\"},\"marker\":{\"line\":{\"color\":\"#E5ECF6\",\"width\":0.5}},\"type\":\"bar\"}],\"barpolar\":[{\"marker\":{\"line\":{\"color\":\"#E5ECF6\",\"width\":0.5}},\"type\":\"barpolar\"}],\"carpet\":[{\"aaxis\":{\"endlinecolor\":\"#2a3f5f\",\"gridcolor\":\"white\",\"linecolor\":\"white\",\"minorgridcolor\":\"white\",\"startlinecolor\":\"#2a3f5f\"},\"baxis\":{\"endlinecolor\":\"#2a3f5f\",\"gridcolor\":\"white\",\"linecolor\":\"white\",\"minorgridcolor\":\"white\",\"startlinecolor\":\"#2a3f5f\"},\"type\":\"carpet\"}],\"choropleth\":[{\"colorbar\":{\"outlinewidth\":0,\"ticks\":\"\"},\"type\":\"choropleth\"}],\"contour\":[{\"colorbar\":{\"outlinewidth\":0,\"ticks\":\"\"},\"colorscale\":[[0.0,\"#0d0887\"],[0.1111111111111111,\"#46039f\"],[0.2222222222222222,\"#7201a8\"],[0.3333333333333333,\"#9c179e\"],[0.4444444444444444,\"#bd3786\"],[0.5555555555555556,\"#d8576b\"],[0.6666666666666666,\"#ed7953\"],[0.7777777777777778,\"#fb9f3a\"],[0.8888888888888888,\"#fdca26\"],[1.0,\"#f0f921\"]],\"type\":\"contour\"}],\"contourcarpet\":[{\"colorbar\":{\"outlinewidth\":0,\"ticks\":\"\"},\"type\":\"contourcarpet\"}],\"heatmap\":[{\"colorbar\":{\"outlinewidth\":0,\"ticks\":\"\"},\"colorscale\":[[0.0,\"#0d0887\"],[0.1111111111111111,\"#46039f\"],[0.2222222222222222,\"#7201a8\"],[0.3333333333333333,\"#9c179e\"],[0.4444444444444444,\"#bd3786\"],[0.5555555555555556,\"#d8576b\"],[0.6666666666666666,\"#ed7953\"],[0.7777777777777778,\"#fb9f3a\"],[0.8888888888888888,\"#fdca26\"],[1.0,\"#f0f921\"]],\"type\":\"heatmap\"}],\"heatmapgl\":[{\"colorbar\":{\"outlinewidth\":0,\"ticks\":\"\"},\"colorscale\":[[0.0,\"#0d0887\"],[0.1111111111111111,\"#46039f\"],[0.2222222222222222,\"#7201a8\"],[0.3333333333333333,\"#9c179e\"],[0.4444444444444444,\"#bd3786\"],[0.5555555555555556,\"#d8576b\"],[0.6666666666666666,\"#ed7953\"],[0.7777777777777778,\"#fb9f3a\"],[0.8888888888888888,\"#fdca26\"],[1.0,\"#f0f921\"]],\"type\":\"heatmapgl\"}],\"histogram\":[{\"marker\":{\"colorbar\":{\"outlinewidth\":0,\"ticks\":\"\"}},\"type\":\"histogram\"}],\"histogram2d\":[{\"colorbar\":{\"outlinewidth\":0,\"ticks\":\"\"},\"colorscale\":[[0.0,\"#0d0887\"],[0.1111111111111111,\"#46039f\"],[0.2222222222222222,\"#7201a8\"],[0.3333333333333333,\"#9c179e\"],[0.4444444444444444,\"#bd3786\"],[0.5555555555555556,\"#d8576b\"],[0.6666666666666666,\"#ed7953\"],[0.7777777777777778,\"#fb9f3a\"],[0.8888888888888888,\"#fdca26\"],[1.0,\"#f0f921\"]],\"type\":\"histogram2d\"}],\"histogram2dcontour\":[{\"colorbar\":{\"outlinewidth\":0,\"ticks\":\"\"},\"colorscale\":[[0.0,\"#0d0887\"],[0.1111111111111111,\"#46039f\"],[0.2222222222222222,\"#7201a8\"],[0.3333333333333333,\"#9c179e\"],[0.4444444444444444,\"#bd3786\"],[0.5555555555555556,\"#d8576b\"],[0.6666666666666666,\"#ed7953\"],[0.7777777777777778,\"#fb9f3a\"],[0.8888888888888888,\"#fdca26\"],[1.0,\"#f0f921\"]],\"type\":\"histogram2dcontour\"}],\"mesh3d\":[{\"colorbar\":{\"outlinewidth\":0,\"ticks\":\"\"},\"type\":\"mesh3d\"}],\"parcoords\":[{\"line\":{\"colorbar\":{\"outlinewidth\":0,\"ticks\":\"\"}},\"type\":\"parcoords\"}],\"pie\":[{\"automargin\":true,\"type\":\"pie\"}],\"scatter\":[{\"marker\":{\"colorbar\":{\"outlinewidth\":0,\"ticks\":\"\"}},\"type\":\"scatter\"}],\"scatter3d\":[{\"line\":{\"colorbar\":{\"outlinewidth\":0,\"ticks\":\"\"}},\"marker\":{\"colorbar\":{\"outlinewidth\":0,\"ticks\":\"\"}},\"type\":\"scatter3d\"}],\"scattercarpet\":[{\"marker\":{\"colorbar\":{\"outlinewidth\":0,\"ticks\":\"\"}},\"type\":\"scattercarpet\"}],\"scattergeo\":[{\"marker\":{\"colorbar\":{\"outlinewidth\":0,\"ticks\":\"\"}},\"type\":\"scattergeo\"}],\"scattergl\":[{\"marker\":{\"colorbar\":{\"outlinewidth\":0,\"ticks\":\"\"}},\"type\":\"scattergl\"}],\"scattermapbox\":[{\"marker\":{\"colorbar\":{\"outlinewidth\":0,\"ticks\":\"\"}},\"type\":\"scattermapbox\"}],\"scatterpolar\":[{\"marker\":{\"colorbar\":{\"outlinewidth\":0,\"ticks\":\"\"}},\"type\":\"scatterpolar\"}],\"scatterpolargl\":[{\"marker\":{\"colorbar\":{\"outlinewidth\":0,\"ticks\":\"\"}},\"type\":\"scatterpolargl\"}],\"scatterternary\":[{\"marker\":{\"colorbar\":{\"outlinewidth\":0,\"ticks\":\"\"}},\"type\":\"scatterternary\"}],\"surface\":[{\"colorbar\":{\"outlinewidth\":0,\"ticks\":\"\"},\"colorscale\":[[0.0,\"#0d0887\"],[0.1111111111111111,\"#46039f\"],[0.2222222222222222,\"#7201a8\"],[0.3333333333333333,\"#9c179e\"],[0.4444444444444444,\"#bd3786\"],[0.5555555555555556,\"#d8576b\"],[0.6666666666666666,\"#ed7953\"],[0.7777777777777778,\"#fb9f3a\"],[0.8888888888888888,\"#fdca26\"],[1.0,\"#f0f921\"]],\"type\":\"surface\"}],\"table\":[{\"cells\":{\"fill\":{\"color\":\"#EBF0F8\"},\"line\":{\"color\":\"white\"}},\"header\":{\"fill\":{\"color\":\"#C8D4E3\"},\"line\":{\"color\":\"white\"}},\"type\":\"table\"}]},\"layout\":{\"annotationdefaults\":{\"arrowcolor\":\"#2a3f5f\",\"arrowhead\":0,\"arrowwidth\":1},\"autotypenumbers\":\"strict\",\"coloraxis\":{\"colorbar\":{\"outlinewidth\":0,\"ticks\":\"\"}},\"colorscale\":{\"diverging\":[[0,\"#8e0152\"],[0.1,\"#c51b7d\"],[0.2,\"#de77ae\"],[0.3,\"#f1b6da\"],[0.4,\"#fde0ef\"],[0.5,\"#f7f7f7\"],[0.6,\"#e6f5d0\"],[0.7,\"#b8e186\"],[0.8,\"#7fbc41\"],[0.9,\"#4d9221\"],[1,\"#276419\"]],\"sequential\":[[0.0,\"#0d0887\"],[0.1111111111111111,\"#46039f\"],[0.2222222222222222,\"#7201a8\"],[0.3333333333333333,\"#9c179e\"],[0.4444444444444444,\"#bd3786\"],[0.5555555555555556,\"#d8576b\"],[0.6666666666666666,\"#ed7953\"],[0.7777777777777778,\"#fb9f3a\"],[0.8888888888888888,\"#fdca26\"],[1.0,\"#f0f921\"]],\"sequentialminus\":[[0.0,\"#0d0887\"],[0.1111111111111111,\"#46039f\"],[0.2222222222222222,\"#7201a8\"],[0.3333333333333333,\"#9c179e\"],[0.4444444444444444,\"#bd3786\"],[0.5555555555555556,\"#d8576b\"],[0.6666666666666666,\"#ed7953\"],[0.7777777777777778,\"#fb9f3a\"],[0.8888888888888888,\"#fdca26\"],[1.0,\"#f0f921\"]]},\"colorway\":[\"#636efa\",\"#EF553B\",\"#00cc96\",\"#ab63fa\",\"#FFA15A\",\"#19d3f3\",\"#FF6692\",\"#B6E880\",\"#FF97FF\",\"#FECB52\"],\"font\":{\"color\":\"#2a3f5f\"},\"geo\":{\"bgcolor\":\"white\",\"lakecolor\":\"white\",\"landcolor\":\"#E5ECF6\",\"showlakes\":true,\"showland\":true,\"subunitcolor\":\"white\"},\"hoverlabel\":{\"align\":\"left\"},\"hovermode\":\"closest\",\"mapbox\":{\"style\":\"light\"},\"paper_bgcolor\":\"white\",\"plot_bgcolor\":\"#E5ECF6\",\"polar\":{\"angularaxis\":{\"gridcolor\":\"white\",\"linecolor\":\"white\",\"ticks\":\"\"},\"bgcolor\":\"#E5ECF6\",\"radialaxis\":{\"gridcolor\":\"white\",\"linecolor\":\"white\",\"ticks\":\"\"}},\"scene\":{\"xaxis\":{\"backgroundcolor\":\"#E5ECF6\",\"gridcolor\":\"white\",\"gridwidth\":2,\"linecolor\":\"white\",\"showbackground\":true,\"ticks\":\"\",\"zerolinecolor\":\"white\"},\"yaxis\":{\"backgroundcolor\":\"#E5ECF6\",\"gridcolor\":\"white\",\"gridwidth\":2,\"linecolor\":\"white\",\"showbackground\":true,\"ticks\":\"\",\"zerolinecolor\":\"white\"},\"zaxis\":{\"backgroundcolor\":\"#E5ECF6\",\"gridcolor\":\"white\",\"gridwidth\":2,\"linecolor\":\"white\",\"showbackground\":true,\"ticks\":\"\",\"zerolinecolor\":\"white\"}},\"shapedefaults\":{\"line\":{\"color\":\"#2a3f5f\"}},\"ternary\":{\"aaxis\":{\"gridcolor\":\"white\",\"linecolor\":\"white\",\"ticks\":\"\"},\"baxis\":{\"gridcolor\":\"white\",\"linecolor\":\"white\",\"ticks\":\"\"},\"bgcolor\":\"#E5ECF6\",\"caxis\":{\"gridcolor\":\"white\",\"linecolor\":\"white\",\"ticks\":\"\"}},\"title\":{\"x\":0.05},\"xaxis\":{\"automargin\":true,\"gridcolor\":\"white\",\"linecolor\":\"white\",\"ticks\":\"\",\"title\":{\"standoff\":15},\"zerolinecolor\":\"white\",\"zerolinewidth\":2},\"yaxis\":{\"automargin\":true,\"gridcolor\":\"white\",\"linecolor\":\"white\",\"ticks\":\"\",\"title\":{\"standoff\":15},\"zerolinecolor\":\"white\",\"zerolinewidth\":2}}}},\"margin\":[5,5,5,5],\"name\":\"interactive09997\",\"viewport_update_throttle\":200},\"id\":\"18102\",\"type\":\"panel.models.plotly.PlotlyPlot\"},{\"attributes\":{},\"id\":\"18040\",\"type\":\"BasicTicker\"},{\"attributes\":{},\"id\":\"18043\",\"type\":\"SaveTool\"},{\"attributes\":{\"children\":[{\"id\":\"17861\"},{\"id\":\"17862\"}],\"margin\":[0,0,0,0],\"name\":\"Column09745\"},\"id\":\"17860\",\"type\":\"Column\"},{\"attributes\":{\"line_alpha\":0.1,\"line_color\":\"blue\",\"line_width\":2,\"x\":{\"field\":\"year\"},\"y\":{\"field\":\"sale_price_sqr_foot\"}},\"id\":\"17976\",\"type\":\"Line\"},{\"attributes\":{},\"id\":\"18116\",\"type\":\"UnionRenderers\"},{\"attributes\":{\"overlay\":{\"id\":\"18048\"}},\"id\":\"18046\",\"type\":\"BoxZoomTool\"},{\"attributes\":{},\"id\":\"18045\",\"type\":\"WheelZoomTool\"},{\"attributes\":{\"children\":[{\"id\":\"17711\"},{\"id\":\"17713\"}],\"margin\":[0,0,0,0],\"name\":\"Column09535\"},\"id\":\"17710\",\"type\":\"Column\"},{\"attributes\":{\"data\":{\"dimensions.0.values\":[[\"Union Square District\",\"Merced Heights\",\"Miraloma Park\",\"Pacific Heights\",\"Westwood Park\",\"Telegraph Hill\",\"Presidio Heights\",\"Cow Hollow\",\"Potrero Hill\",\"South Beach\"]],\"dimensions.1.values\":[{\"__ndarray__\":\"JRAUMfI/jEB9IrkvwqaIQFx/3pp8XohAFpsVUHKMhUBs0ERas3iFQL0KhXgNJIVAy835O80ahUANV25bts+EQJrMCuEbsIRAya3y7v5QhEA=\",\"dtype\":\"float64\",\"order\":\"little\",\"shape\":[10]}],\"dimensions.2.values\":[{\"__ndarray__\":\"AAAAAE4JF0EAAAAA8DYXQQAAAAB98hZBAAAAAIQYF0EAAAAAXFUXQQAAAACEGBdBAAAAAGAOF0EAAAAAhBgXQQAAAACEGBdBAAAAAPTvFkE=\",\"dtype\":\"float64\",\"order\":\"little\",\"shape\":[10]}],\"dimensions.3.values\":[{\"__ndarray__\":\"VVVVVVX2o0AAAAAAAKyqQAAAAACA1qBASZIkSZICpkAAAAAAAO6uQEmSJEmSAqZAVVVVVVXPpEBJkiRJkgKmQEmSJEmSAqZAAAAAAABmoEA=\",\"dtype\":\"float64\",\"order\":\"little\",\"shape\":[10]}],\"line.color\":[{\"__ndarray__\":\"JRAUMfI/jEB9IrkvwqaIQFx/3pp8XohAFpsVUHKMhUBs0ERas3iFQL0KhXgNJIVAy835O80ahUANV25bts+EQJrMCuEbsIRAya3y7v5QhEA=\",\"dtype\":\"float64\",\"order\":\"little\",\"shape\":[10]}]},\"selected\":{\"id\":\"18145\"},\"selection_policy\":{\"id\":\"18144\"}},\"id\":\"18101\",\"type\":\"ColumnDataSource\"},{\"attributes\":{},\"id\":\"18047\",\"type\":\"ResetTool\"},{\"attributes\":{\"active_multi\":null,\"tools\":[{\"id\":\"18026\"},{\"id\":\"18043\"},{\"id\":\"18044\"},{\"id\":\"18045\"},{\"id\":\"18046\"},{\"id\":\"18047\"}]},\"id\":\"18049\",\"type\":\"Toolbar\"},{\"attributes\":{},\"id\":\"17983\",\"type\":\"AllLabels\"},{\"attributes\":{\"axis_label\":\"Price per SqFt\",\"formatter\":{\"id\":\"17836\"},\"major_label_policy\":{\"id\":\"17837\"},\"ticker\":{\"id\":\"17807\"}},\"id\":\"17806\",\"type\":\"LinearAxis\"},{\"attributes\":{},\"id\":\"18117\",\"type\":\"Selection\"},{\"attributes\":{},\"id\":\"18078\",\"type\":\"UnionRenderers\"},{\"attributes\":{},\"id\":\"17807\",\"type\":\"BasicTicker\"},{\"attributes\":{},\"id\":\"17973\",\"type\":\"Selection\"},{\"attributes\":{\"css_classes\":[\"markdown\"],\"margin\":[5,5,5,5],\"name\":\"Markdown09531\",\"text\":\"&lt;h3&gt;This dashboard represents a visual analysis of historical prices of house units, sale price per square foot and gross rent in San Francisco, California from 2010 to 2016.  You can navigate through the tabs above to explore more details about the evolution of the real estate market in The Golden City across these years.&lt;/h3&gt;\"},\"id\":\"17711\",\"type\":\"panel.models.markup.HTML\"},{\"attributes\":{\"active_multi\":null,\"tools\":[{\"id\":\"17792\"},{\"id\":\"17810\"},{\"id\":\"17811\"},{\"id\":\"17812\"},{\"id\":\"17813\"},{\"id\":\"17814\"}]},\"id\":\"17816\",\"type\":\"Toolbar\"},{\"attributes\":{},\"id\":\"17834\",\"type\":\"AllLabels\"},{\"attributes\":{},\"id\":\"17814\",\"type\":\"ResetTool\"},{\"attributes\":{\"data_source\":{\"id\":\"17972\"},\"glyph\":{\"id\":\"17975\"},\"hover_glyph\":null,\"muted_glyph\":{\"id\":\"17977\"},\"nonselection_glyph\":{\"id\":\"17976\"},\"selection_glyph\":{\"id\":\"17980\"},\"view\":{\"id\":\"17979\"}},\"id\":\"17978\",\"type\":\"GlyphRenderer\"},{\"attributes\":{\"line_color\":\"blue\",\"line_width\":2,\"x\":{\"field\":\"year\"},\"y\":{\"field\":\"sale_price_sqr_foot\"}},\"id\":\"17975\",\"type\":\"Line\"},{\"attributes\":{},\"id\":\"18142\",\"type\":\"UnionRenderers\"},{\"attributes\":{\"margin\":[0,0,0,0],\"name\":\"Column12653\"},\"id\":\"18105\",\"type\":\"Column\"},{\"attributes\":{\"line_alpha\":0.2,\"line_color\":\"blue\",\"line_width\":2,\"x\":{\"field\":\"year\"},\"y\":{\"field\":\"sale_price_sqr_foot\"}},\"id\":\"17977\",\"type\":\"Line\"},{\"attributes\":{\"source\":{\"id\":\"17972\"}},\"id\":\"17979\",\"type\":\"CDSView\"},{\"attributes\":{\"css_classes\":[\"markdown\"],\"margin\":[5,5,5,5],\"name\":\"Markdown12646\",\"text\":\"&lt;h1&gt;Real Estate Analysis of San Francisco from 2010 to 2016&lt;/h1&gt;\",\"width\":700},\"id\":\"17708\",\"type\":\"panel.models.markup.HTML\"},{\"attributes\":{},\"id\":\"18143\",\"type\":\"Selection\"},{\"attributes\":{},\"id\":\"18144\",\"type\":\"UnionRenderers\"},{\"attributes\":{\"child\":{\"id\":\"18092\"},\"name\":\"Column10003\",\"title\":\"Parallel Plots Analysis\"},\"id\":\"18103\",\"type\":\"Panel\"},{\"attributes\":{\"end\":4705.1,\"reset_end\":4705.1,\"reset_start\":923.9,\"start\":923.9,\"tags\":[[[\"gross_rent\",\"gross_rent\",null]]]},\"id\":\"17791\",\"type\":\"Range1d\"},{\"attributes\":{\"bottom_units\":\"screen\",\"fill_alpha\":0.5,\"fill_color\":\"lightgrey\",\"left_units\":\"screen\",\"level\":\"overlay\",\"line_alpha\":1.0,\"line_color\":\"black\",\"line_dash\":[4,4],\"line_width\":2,\"right_units\":\"screen\",\"syncable\":false,\"top_units\":\"screen\"},\"id\":\"17888\",\"type\":\"BoxAnnotation\"},{\"attributes\":{\"line_color\":\"blue\",\"line_width\":2,\"x\":{\"field\":\"year\"},\"y\":{\"field\":\"sale_price_sqr_foot\"}},\"id\":\"17980\",\"type\":\"Line\"},{\"attributes\":{\"children\":[{\"id\":\"18108\"}],\"margin\":[0,0,0,0],\"name\":\"Row12652\"},\"id\":\"18106\",\"type\":\"Row\"},{\"attributes\":{},\"id\":\"17982\",\"type\":\"BasicTickFormatter\"},{\"attributes\":{\"data\":[{\"branchvalues\":\"total\",\"domain\":{\"x\":[0.0,1.0],\"y\":[0.0,1.0]},\"hovertemplate\":\"labels=%{label}<br>sale_price_sqr_foot=%{value}<br>parent=%{parent}<br>id=%{id}<br>gross_rent=%{color}<extra></extra>\",\"marker\":{\"coloraxis\":\"coloraxis\"},\"name\":\"\",\"type\":\"sunburst\"}],\"data_sources\":[{\"id\":\"18107\"}],\"layout\":{\"coloraxis\":{\"colorbar\":{\"title\":{\"text\":\"gross_rent\"}},\"colorscale\":[[0.0,\"rgb(247,251,255)\"],[0.125,\"rgb(222,235,247)\"],[0.25,\"rgb(198,219,239)\"],[0.375,\"rgb(158,202,225)\"],[0.5,\"rgb(107,174,214)\"],[0.625,\"rgb(66,146,198)\"],[0.75,\"rgb(33,113,181)\"],[0.875,\"rgb(8,81,156)\"],[1.0,\"rgb(8,48,107)\"]]},\"height\":800,\"legend\":{\"tracegroupgap\":0},\"template\":{\"data\":{\"bar\":[{\"error_x\":{\"color\":\"#2a3f5f\"},\"error_y\":{\"color\":\"#2a3f5f\"},\"marker\":{\"line\":{\"color\":\"#E5ECF6\",\"width\":0.5}},\"type\":\"bar\"}],\"barpolar\":[{\"marker\":{\"line\":{\"color\":\"#E5ECF6\",\"width\":0.5}},\"type\":\"barpolar\"}],\"carpet\":[{\"aaxis\":{\"endlinecolor\":\"#2a3f5f\",\"gridcolor\":\"white\",\"linecolor\":\"white\",\"minorgridcolor\":\"white\",\"startlinecolor\":\"#2a3f5f\"},\"baxis\":{\"endlinecolor\":\"#2a3f5f\",\"gridcolor\":\"white\",\"linecolor\":\"white\",\"minorgridcolor\":\"white\",\"startlinecolor\":\"#2a3f5f\"},\"type\":\"carpet\"}],\"choropleth\":[{\"colorbar\":{\"outlinewidth\":0,\"ticks\":\"\"},\"type\":\"choropleth\"}],\"contour\":[{\"colorbar\":{\"outlinewidth\":0,\"ticks\":\"\"},\"colorscale\":[[0.0,\"#0d0887\"],[0.1111111111111111,\"#46039f\"],[0.2222222222222222,\"#7201a8\"],[0.3333333333333333,\"#9c179e\"],[0.4444444444444444,\"#bd3786\"],[0.5555555555555556,\"#d8576b\"],[0.6666666666666666,\"#ed7953\"],[0.7777777777777778,\"#fb9f3a\"],[0.8888888888888888,\"#fdca26\"],[1.0,\"#f0f921\"]],\"type\":\"contour\"}],\"contourcarpet\":[{\"colorbar\":{\"outlinewidth\":0,\"ticks\":\"\"},\"type\":\"contourcarpet\"}],\"heatmap\":[{\"colorbar\":{\"outlinewidth\":0,\"ticks\":\"\"},\"colorscale\":[[0.0,\"#0d0887\"],[0.1111111111111111,\"#46039f\"],[0.2222222222222222,\"#7201a8\"],[0.3333333333333333,\"#9c179e\"],[0.4444444444444444,\"#bd3786\"],[0.5555555555555556,\"#d8576b\"],[0.6666666666666666,\"#ed7953\"],[0.7777777777777778,\"#fb9f3a\"],[0.8888888888888888,\"#fdca26\"],[1.0,\"#f0f921\"]],\"type\":\"heatmap\"}],\"heatmapgl\":[{\"colorbar\":{\"outlinewidth\":0,\"ticks\":\"\"},\"colorscale\":[[0.0,\"#0d0887\"],[0.1111111111111111,\"#46039f\"],[0.2222222222222222,\"#7201a8\"],[0.3333333333333333,\"#9c179e\"],[0.4444444444444444,\"#bd3786\"],[0.5555555555555556,\"#d8576b\"],[0.6666666666666666,\"#ed7953\"],[0.7777777777777778,\"#fb9f3a\"],[0.8888888888888888,\"#fdca26\"],[1.0,\"#f0f921\"]],\"type\":\"heatmapgl\"}],\"histogram\":[{\"marker\":{\"colorbar\":{\"outlinewidth\":0,\"ticks\":\"\"}},\"type\":\"histogram\"}],\"histogram2d\":[{\"colorbar\":{\"outlinewidth\":0,\"ticks\":\"\"},\"colorscale\":[[0.0,\"#0d0887\"],[0.1111111111111111,\"#46039f\"],[0.2222222222222222,\"#7201a8\"],[0.3333333333333333,\"#9c179e\"],[0.4444444444444444,\"#bd3786\"],[0.5555555555555556,\"#d8576b\"],[0.6666666666666666,\"#ed7953\"],[0.7777777777777778,\"#fb9f3a\"],[0.8888888888888888,\"#fdca26\"],[1.0,\"#f0f921\"]],\"type\":\"histogram2d\"}],\"histogram2dcontour\":[{\"colorbar\":{\"outlinewidth\":0,\"ticks\":\"\"},\"colorscale\":[[0.0,\"#0d0887\"],[0.1111111111111111,\"#46039f\"],[0.2222222222222222,\"#7201a8\"],[0.3333333333333333,\"#9c179e\"],[0.4444444444444444,\"#bd3786\"],[0.5555555555555556,\"#d8576b\"],[0.6666666666666666,\"#ed7953\"],[0.7777777777777778,\"#fb9f3a\"],[0.8888888888888888,\"#fdca26\"],[1.0,\"#f0f921\"]],\"type\":\"histogram2dcontour\"}],\"mesh3d\":[{\"colorbar\":{\"outlinewidth\":0,\"ticks\":\"\"},\"type\":\"mesh3d\"}],\"parcoords\":[{\"line\":{\"colorbar\":{\"outlinewidth\":0,\"ticks\":\"\"}},\"type\":\"parcoords\"}],\"pie\":[{\"automargin\":true,\"type\":\"pie\"}],\"scatter\":[{\"marker\":{\"colorbar\":{\"outlinewidth\":0,\"ticks\":\"\"}},\"type\":\"scatter\"}],\"scatter3d\":[{\"line\":{\"colorbar\":{\"outlinewidth\":0,\"ticks\":\"\"}},\"marker\":{\"colorbar\":{\"outlinewidth\":0,\"ticks\":\"\"}},\"type\":\"scatter3d\"}],\"scattercarpet\":[{\"marker\":{\"colorbar\":{\"outlinewidth\":0,\"ticks\":\"\"}},\"type\":\"scattercarpet\"}],\"scattergeo\":[{\"marker\":{\"colorbar\":{\"outlinewidth\":0,\"ticks\":\"\"}},\"type\":\"scattergeo\"}],\"scattergl\":[{\"marker\":{\"colorbar\":{\"outlinewidth\":0,\"ticks\":\"\"}},\"type\":\"scattergl\"}],\"scattermapbox\":[{\"marker\":{\"colorbar\":{\"outlinewidth\":0,\"ticks\":\"\"}},\"type\":\"scattermapbox\"}],\"scatterpolar\":[{\"marker\":{\"colorbar\":{\"outlinewidth\":0,\"ticks\":\"\"}},\"type\":\"scatterpolar\"}],\"scatterpolargl\":[{\"marker\":{\"colorbar\":{\"outlinewidth\":0,\"ticks\":\"\"}},\"type\":\"scatterpolargl\"}],\"scatterternary\":[{\"marker\":{\"colorbar\":{\"outlinewidth\":0,\"ticks\":\"\"}},\"type\":\"scatterternary\"}],\"surface\":[{\"colorbar\":{\"outlinewidth\":0,\"ticks\":\"\"},\"colorscale\":[[0.0,\"#0d0887\"],[0.1111111111111111,\"#46039f\"],[0.2222222222222222,\"#7201a8\"],[0.3333333333333333,\"#9c179e\"],[0.4444444444444444,\"#bd3786\"],[0.5555555555555556,\"#d8576b\"],[0.6666666666666666,\"#ed7953\"],[0.7777777777777778,\"#fb9f3a\"],[0.8888888888888888,\"#fdca26\"],[1.0,\"#f0f921\"]],\"type\":\"surface\"}],\"table\":[{\"cells\":{\"fill\":{\"color\":\"#EBF0F8\"},\"line\":{\"color\":\"white\"}},\"header\":{\"fill\":{\"color\":\"#C8D4E3\"},\"line\":{\"color\":\"white\"}},\"type\":\"table\"}]},\"layout\":{\"annotationdefaults\":{\"arrowcolor\":\"#2a3f5f\",\"arrowhead\":0,\"arrowwidth\":1},\"autotypenumbers\":\"strict\",\"coloraxis\":{\"colorbar\":{\"outlinewidth\":0,\"ticks\":\"\"}},\"colorscale\":{\"diverging\":[[0,\"#8e0152\"],[0.1,\"#c51b7d\"],[0.2,\"#de77ae\"],[0.3,\"#f1b6da\"],[0.4,\"#fde0ef\"],[0.5,\"#f7f7f7\"],[0.6,\"#e6f5d0\"],[0.7,\"#b8e186\"],[0.8,\"#7fbc41\"],[0.9,\"#4d9221\"],[1,\"#276419\"]],\"sequential\":[[0.0,\"#0d0887\"],[0.1111111111111111,\"#46039f\"],[0.2222222222222222,\"#7201a8\"],[0.3333333333333333,\"#9c179e\"],[0.4444444444444444,\"#bd3786\"],[0.5555555555555556,\"#d8576b\"],[0.6666666666666666,\"#ed7953\"],[0.7777777777777778,\"#fb9f3a\"],[0.8888888888888888,\"#fdca26\"],[1.0,\"#f0f921\"]],\"sequentialminus\":[[0.0,\"#0d0887\"],[0.1111111111111111,\"#46039f\"],[0.2222222222222222,\"#7201a8\"],[0.3333333333333333,\"#9c179e\"],[0.4444444444444444,\"#bd3786\"],[0.5555555555555556,\"#d8576b\"],[0.6666666666666666,\"#ed7953\"],[0.7777777777777778,\"#fb9f3a\"],[0.8888888888888888,\"#fdca26\"],[1.0,\"#f0f921\"]]},\"colorway\":[\"#636efa\",\"#EF553B\",\"#00cc96\",\"#ab63fa\",\"#FFA15A\",\"#19d3f3\",\"#FF6692\",\"#B6E880\",\"#FF97FF\",\"#FECB52\"],\"font\":{\"color\":\"#2a3f5f\"},\"geo\":{\"bgcolor\":\"white\",\"lakecolor\":\"white\",\"landcolor\":\"#E5ECF6\",\"showlakes\":true,\"showland\":true,\"subunitcolor\":\"white\"},\"hoverlabel\":{\"align\":\"left\"},\"hovermode\":\"closest\",\"mapbox\":{\"style\":\"light\"},\"paper_bgcolor\":\"white\",\"plot_bgcolor\":\"#E5ECF6\",\"polar\":{\"angularaxis\":{\"gridcolor\":\"white\",\"linecolor\":\"white\",\"ticks\":\"\"},\"bgcolor\":\"#E5ECF6\",\"radialaxis\":{\"gridcolor\":\"white\",\"linecolor\":\"white\",\"ticks\":\"\"}},\"scene\":{\"xaxis\":{\"backgroundcolor\":\"#E5ECF6\",\"gridcolor\":\"white\",\"gridwidth\":2,\"linecolor\":\"white\",\"showbackground\":true,\"ticks\":\"\",\"zerolinecolor\":\"white\"},\"yaxis\":{\"backgroundcolor\":\"#E5ECF6\",\"gridcolor\":\"white\",\"gridwidth\":2,\"linecolor\":\"white\",\"showbackground\":true,\"ticks\":\"\",\"zerolinecolor\":\"white\"},\"zaxis\":{\"backgroundcolor\":\"#E5ECF6\",\"gridcolor\":\"white\",\"gridwidth\":2,\"linecolor\":\"white\",\"showbackground\":true,\"ticks\":\"\",\"zerolinecolor\":\"white\"}},\"shapedefaults\":{\"line\":{\"color\":\"#2a3f5f\"}},\"ternary\":{\"aaxis\":{\"gridcolor\":\"white\",\"linecolor\":\"white\",\"ticks\":\"\"},\"baxis\":{\"gridcolor\":\"white\",\"linecolor\":\"white\",\"ticks\":\"\"},\"bgcolor\":\"#E5ECF6\",\"caxis\":{\"gridcolor\":\"white\",\"linecolor\":\"white\",\"ticks\":\"\"}},\"title\":{\"x\":0.05},\"xaxis\":{\"automargin\":true,\"gridcolor\":\"white\",\"linecolor\":\"white\",\"ticks\":\"\",\"title\":{\"standoff\":15},\"zerolinecolor\":\"white\",\"zerolinewidth\":2},\"yaxis\":{\"automargin\":true,\"gridcolor\":\"white\",\"linecolor\":\"white\",\"ticks\":\"\",\"title\":{\"standoff\":15},\"zerolinecolor\":\"white\",\"zerolinewidth\":2}}},\"title\":{\"text\":\"Cost Analysis of Most Expensive neighborhoods in San Francisco per Year\"},\"width\":800},\"margin\":[5,5,5,5],\"name\":\"interactive12648\",\"viewport_update_throttle\":200},\"id\":\"18108\",\"type\":\"panel.models.plotly.PlotlyPlot\"},{\"attributes\":{\"text\":\"Average Gross Rent by Year\",\"text_color\":\"black\",\"text_font_size\":\"12pt\"},\"id\":\"17794\",\"type\":\"Title\"},{\"attributes\":{},\"id\":\"18145\",\"type\":\"Selection\"},{\"attributes\":{\"end\":2016.0,\"reset_end\":2016.0,\"reset_start\":2010.0,\"start\":2010.0,\"tags\":[[[\"year\",\"year\",null]]]},\"id\":\"17790\",\"type\":\"Range1d\"},{\"attributes\":{},\"id\":\"18110\",\"type\":\"UnionRenderers\"},{\"attributes\":{\"data\":{\"customdata\":[{\"__ndarray__\":\"AAAAAABck0D//////+eXQAAAAAAAKKJAAAAAAAA2p0D//////4+rQAEAAAAANq1AAAAAAAAmsUAAAAAAACiiQAAAAAAAkKtAAAAAAAAmsUAAAAAAAFyTQAAAAAAA6JdAAAAAAAAookAAAAAAAJCrQAAAAAAAXJNAAAAAAADol0AAAAAAACiiQAAAAAAANqdAAAAAAACQq0AAAAAAADatQAAAAAAAJrFAAAAAAABck0AAAAAAAOiXQAAAAAAAKKJAAAAAAAA2p0AAAAAAAJCrQAAAAAAANq1AAAAAAAAmsUAAAAAAAFyTQAAAAAAA6JdAAAAAAAAookAAAAAAADanQAAAAAAAkKtAAAAAAAAmsUAAAAAAAFyTQAAAAAAA6JdAAAAAAACQq0AAAAAAAFyTQAAAAAAA6JdAAQAAAAAookAAAAAAADanQP//////j6tAAAAAAAA2rUAAAAAAACaxQAAAAAAAXJNAAAAAAADol0AAAAAAACiiQAAAAAAANqdAAAAAAACQq0ABAAAAADatQP//////j6tAAAAAAAAmsUD//////1uTQAAAAAAA6JdAAQAAAAAookD//////zWnQAEAAAAAkKtAAAAAAAA2rUAAAAAAACaxQA==\",\"dtype\":\"float64\",\"order\":\"little\",\"shape\":[59,1]}],\"ids\":[[\"2010/Cow Hollow\",\"2011/Cow Hollow\",\"2012/Cow Hollow\",\"2013/Cow Hollow\",\"2014/Cow Hollow\",\"2015/Cow Hollow\",\"2016/Cow Hollow\",\"2012/Merced Heights\",\"2014/Merced Heights\",\"2016/Merced Heights\",\"2010/Miraloma Park\",\"2011/Miraloma Park\",\"2012/Miraloma Park\",\"2014/Miraloma Park\",\"2010/Pacific Heights\",\"2011/Pacific Heights\",\"2012/Pacific Heights\",\"2013/Pacific Heights\",\"2014/Pacific Heights\",\"2015/Pacific Heights\",\"2016/Pacific Heights\",\"2010/Potrero Hill\",\"2011/Potrero Hill\",\"2012/Potrero Hill\",\"2013/Potrero Hill\",\"2014/Potrero Hill\",\"2015/Potrero Hill\",\"2016/Potrero Hill\",\"2010/Presidio Heights\",\"2011/Presidio Heights\",\"2012/Presidio Heights\",\"2013/Presidio Heights\",\"2014/Presidio Heights\",\"2016/Presidio Heights\",\"2010/South Beach\",\"2011/South Beach\",\"2014/South Beach\",\"2010/Telegraph Hill\",\"2011/Telegraph Hill\",\"2012/Telegraph Hill\",\"2013/Telegraph Hill\",\"2014/Telegraph Hill\",\"2015/Telegraph Hill\",\"2016/Telegraph Hill\",\"2010/Union Square District\",\"2011/Union Square District\",\"2012/Union Square District\",\"2013/Union Square District\",\"2014/Union Square District\",\"2015/Union Square District\",\"2014/Westwood Park\",\"2016/Westwood Park\",\"2010\",\"2011\",\"2012\",\"2013\",\"2014\",\"2015\",\"2016\"]],\"labels\":[[\"Cow Hollow\",\"Cow Hollow\",\"Cow Hollow\",\"Cow Hollow\",\"Cow Hollow\",\"Cow Hollow\",\"Cow Hollow\",\"Merced Heights\",\"Merced Heights\",\"Merced Heights\",\"Miraloma Park\",\"Miraloma Park\",\"Miraloma Park\",\"Miraloma Park\",\"Pacific Heights\",\"Pacific Heights\",\"Pacific Heights\",\"Pacific Heights\",\"Pacific Heights\",\"Pacific Heights\",\"Pacific Heights\",\"Potrero Hill\",\"Potrero Hill\",\"Potrero Hill\",\"Potrero Hill\",\"Potrero Hill\",\"Potrero Hill\",\"Potrero Hill\",\"Presidio Heights\",\"Presidio Heights\",\"Presidio Heights\",\"Presidio Heights\",\"Presidio Heights\",\"Presidio Heights\",\"South Beach\",\"South Beach\",\"South Beach\",\"Telegraph Hill\",\"Telegraph Hill\",\"Telegraph Hill\",\"Telegraph Hill\",\"Telegraph Hill\",\"Telegraph Hill\",\"Telegraph Hill\",\"Union Square District\",\"Union Square District\",\"Union Square District\",\"Union Square District\",\"Union Square District\",\"Union Square District\",\"Westwood Park\",\"Westwood Park\",\"2010\",\"2011\",\"2012\",\"2013\",\"2014\",\"2015\",\"2016\"]],\"marker.colors\":[{\"__ndarray__\":\"AAAAAABck0D//////+eXQAAAAAAAKKJAAAAAAAA2p0D//////4+rQAEAAAAANq1AAAAAAAAmsUAAAAAAACiiQAAAAAAAkKtAAAAAAAAmsUAAAAAAAFyTQAAAAAAA6JdAAAAAAAAookAAAAAAAJCrQAAAAAAAXJNAAAAAAADol0AAAAAAACiiQAAAAAAANqdAAAAAAACQq0AAAAAAADatQAAAAAAAJrFAAAAAAABck0AAAAAAAOiXQAAAAAAAKKJAAAAAAAA2p0AAAAAAAJCrQAAAAAAANq1AAAAAAAAmsUAAAAAAAFyTQAAAAAAA6JdAAAAAAAAookAAAAAAADanQAAAAAAAkKtAAAAAAAAmsUAAAAAAAFyTQAAAAAAA6JdAAAAAAACQq0AAAAAAAFyTQAAAAAAA6JdAAQAAAAAookAAAAAAADanQP//////j6tAAAAAAAA2rUAAAAAAACaxQAAAAAAAXJNAAAAAAADol0AAAAAAACiiQAAAAAAANqdAAAAAAACQq0ABAAAAADatQP//////j6tAAAAAAAAmsUD//////1uTQAAAAAAA6JdAAQAAAAAookD//////zWnQAEAAAAAkKtAAAAAAAA2rUAAAAAAACaxQA==\",\"dtype\":\"float64\",\"order\":\"little\",\"shape\":[59]}],\"parents\":[[\"2010\",\"2011\",\"2012\",\"2013\",\"2014\",\"2015\",\"2016\",\"2012\",\"2014\",\"2016\",\"2010\",\"2011\",\"2012\",\"2014\",\"2010\",\"2011\",\"2012\",\"2013\",\"2014\",\"2015\",\"2016\",\"2010\",\"2011\",\"2012\",\"2013\",\"2014\",\"2015\",\"2016\",\"2010\",\"2011\",\"2012\",\"2013\",\"2014\",\"2016\",\"2010\",\"2011\",\"2014\",\"2010\",\"2011\",\"2012\",\"2013\",\"2014\",\"2015\",\"2016\",\"2010\",\"2011\",\"2012\",\"2013\",\"2014\",\"2015\",\"2014\",\"2016\",\"\",\"\",\"\",\"\",\"\",\"\",\"\"]],\"values\":[{\"__ndarray__\":\"LMKfLArLgUAbTXjLh2l4QAnYXuSLJoRAMODd8zgbhkCYJdtc7J6FQJ+1dd72tIJAlnINLUOMkEAwHc+JQlJ6QIqD7vTPhYBArKqqqqoilkCe/mGt3kSFQPFwTCnR6nlAojOZ+omhh0BcSWyXEM+TQMTWDJhBCH9ARk9x+1fQf0C1+2fnvlGCQDUy2V9jfn9A2iErAUXFiUBYm7NjgHGMQJLYpGodI49Ah38+NzO3fkC1zY5QN3J/QFj9s41dKn1AlMC7a6O1gkAa4w1izlSQQF3nsW1oqolAxoQBfzYdhkDWpFbsVyuBQKJctOYJ3X5A0EkKy7ypekD6AizUuAaAQKeMQKSb24JAhyUc1d/nlkCXu/8uZjSQQBbFFTRPSnhAo6/N1AhlgEAI6ksbWWaAQBLZUgt+Nn5AHv59fdUcfUAzQeQwfmqEQLEuMlSLIYZA99S3+Osnj0CqsCDuZTiMQOCHNy6MyYFAOyzw1/jhckA0MM0KJtN7QDC+7G/jKZRAQrKmQCtygUAJf5jZZ6WhQIYKGXnWN4dAUZZwO5C5g0A8H7CadTazQEFA2gfXOqtAF4p5H6B0sEBO/41+oaqwQHQpnRm+R71ALqHeYc3RtUA9BZyt/Au8QA==\",\"dtype\":\"float64\",\"order\":\"little\",\"shape\":[59]}]},\"selected\":{\"id\":\"18117\"},\"selection_policy\":{\"id\":\"18116\"}},\"id\":\"18107\",\"type\":\"ColumnDataSource\"},{\"attributes\":{\"margin\":[20,20,20,20],\"min_width\":250,\"options\":[\"Alamo Square\",\"Anza Vista\",\"Bayview\",\"Buena Vista Park\",\"Central Richmond\",\"Central Sunset\",\"Corona Heights\",\"Cow Hollow\",\"Croker Amazon\",\"Diamond Heights\",\"Downtown \",\"Eureka Valley/Dolores Heights\",\"Excelsior\",\"Financial District North\",\"Financial District South\",\"Forest Knolls\",\"Glen Park\",\"Golden Gate Heights\",\"Haight Ashbury\",\"Hayes Valley\",\"Hunters Point\",\"Ingleside \",\"Inner Mission\",\"Inner Parkside\",\"Inner Richmond\",\"Inner Sunset\",\"Jordan Park/Laurel Heights\",\"Lake --The Presidio\",\"Lone Mountain\",\"Lower Pacific Heights\",\"Marina\",\"Miraloma Park\",\"Mission Bay\",\"Mission Dolores\",\"Mission Terrace\",\"Nob Hill\",\"Noe Valley\",\"Oceanview\",\"Outer Parkside\",\"Outer Richmond \",\"Outer Sunset\",\"Pacific Heights\",\"Park North\",\"Parkside\",\"Parnassus/Ashbury Heights\",\"Portola\",\"Potrero Hill\",\"Presidio Heights\",\"Russian Hill\",\"South Beach\",\"South of Market\",\"Sunnyside\",\"Telegraph Hill\",\"Twin Peaks\",\"Union Square District\",\"Van Ness/ Civic Center\",\"West Portal\",\"Western Addition\",\"Yerba Buena\",\"Bernal Heights \",\"Clarendon Heights\",\"Duboce Triangle\",\"Ingleside Heights\",\"North Beach\",\"North Waterfront\",\"Outer Mission\",\"Westwood Highlands\",\"Merced Heights\",\"Midtown Terrace\",\"Visitacion Valley\",\"Silver Terrace\",\"Westwood Park\",\"Bayview Heights\"],\"title\":\"neighborhood\",\"value\":\"Alamo Square\",\"width\":250},\"id\":\"18019\",\"type\":\"Select\"},{\"attributes\":{\"bottom_units\":\"screen\",\"fill_alpha\":0.5,\"fill_color\":\"lightgrey\",\"left_units\":\"screen\",\"level\":\"overlay\",\"line_alpha\":1.0,\"line_color\":\"black\",\"line_dash\":[4,4],\"line_width\":2,\"right_units\":\"screen\",\"syncable\":false,\"top_units\":\"screen\"},\"id\":\"18048\",\"type\":\"BoxAnnotation\"},{\"attributes\":{},\"id\":\"18111\",\"type\":\"Selection\"},{\"attributes\":{\"child\":{\"id\":\"18104\"},\"name\":\"Column12649\",\"title\":\"Sunburst Plot Analysis\"},\"id\":\"18109\",\"type\":\"Panel\"},{\"attributes\":{\"margin\":[0,0,0,0],\"name\":\"Column09743\"},\"id\":\"17788\",\"type\":\"Column\"},{\"attributes\":{\"line_color\":\"red\",\"line_width\":2,\"x\":{\"field\":\"year\"},\"y\":{\"field\":\"gross_rent\"}},\"id\":\"17826\",\"type\":\"Line\"},{\"attributes\":{\"children\":[{\"id\":\"17793\"}],\"margin\":[0,0,0,0],\"name\":\"Row09742\"},\"id\":\"17789\",\"type\":\"Row\"},{\"attributes\":{\"children\":[{\"id\":\"18019\"}],\"css_classes\":[\"panel-widget-box\"],\"margin\":[5,5,5,5],\"name\":\"WidgetBox09853\"},\"id\":\"18018\",\"type\":\"Column\"}],\"root_ids\":[\"17707\",\"18281\",\"18453\"]},\"title\":\"Bokeh Application\",\"version\":\"2.3.0\"}};\n",
       "    var render_items = [{\"docid\":\"190de75d-bc41-4ae8-a3c6-d2823f4d1f08\",\"root_ids\":[\"17707\"],\"roots\":{\"17707\":\"f7ca3406-89bf-4e6d-9960-837b17fd4076\"}}];\n",
       "    root.Bokeh.embed.embed_items_notebook(docs_json, render_items);\n",
       "  }\n",
       "  if (root.Bokeh !== undefined && root.Bokeh.Panel !== undefined && root['Plotly'] !== undefined ) {\n",
       "    embed_document(root);\n",
       "  } else {\n",
       "    var attempts = 0;\n",
       "    var timer = setInterval(function(root) {\n",
       "      if (root.Bokeh !== undefined && root.Bokeh.Panel !== undefined && root['Plotly'] !== undefined) {\n",
       "        clearInterval(timer);\n",
       "        embed_document(root);\n",
       "      } else if (document.readyState == \"complete\") {\n",
       "        attempts++;\n",
       "        if (attempts > 100) {\n",
       "          clearInterval(timer);\n",
       "          console.log(\"Bokeh: ERROR: Unable to run BokehJS code because BokehJS library is missing\");\n",
       "        }\n",
       "      }\n",
       "    }, 10, root)\n",
       "  }\n",
       "})(window);</script>"
      ],
      "text/plain": [
       "Column\n",
       "    [0] Markdown(str, width=700)\n",
       "    [1] Tabs\n",
       "        [0] Column\n",
       "            [0] Markdown(str)\n",
       "            [1] Plotly(Figure, relayout_data={'autosize': True})\n",
       "        [1] Row\n",
       "            [0] Column\n",
       "                [0] Column()\n",
       "                [1] Row\n",
       "                    [0] HoloViews(Bars, name='interactive09536')\n",
       "            [1] Column\n",
       "                [0] Column()\n",
       "                [1] Row\n",
       "                    [0] HoloViews(Curve, name='interactive09662')\n",
       "            [2] Column\n",
       "                [0] Column()\n",
       "                [1] Row\n",
       "                    [0] HoloViews(Curve, name='interactive09744')\n",
       "        [2] Column\n",
       "            [0] Column\n",
       "                [0] Column()\n",
       "                [1] Row\n",
       "                    [0] Row(name='interactive09827')\n",
       "                        [0] HoloViews(DynamicMap, name='interactive09827')\n",
       "                        [1] Column\n",
       "                            [0] WidgetBox\n",
       "                                [0] Select(margin=(20, 20, 20, 20), name='neighborhood', options=['Alamo Square', ...], value='Alamo Square', width=250)\n",
       "                            [1] VSpacer()\n",
       "            [1] Column\n",
       "                [0] Column()\n",
       "                [1] Row\n",
       "                    [0] HoloViews(Bars, name='interactive09862')\n",
       "        [3] Column\n",
       "            [0] Column\n",
       "                [0] Column()\n",
       "                [1] Row\n",
       "                    [0] Plotly(Figure, name='interactive09991', relayout_data={'autosize': True})\n",
       "            [1] Column\n",
       "                [0] Column()\n",
       "                [1] Row\n",
       "                    [0] Plotly(Figure, name='interactive09997', relayout_data={'autosize': True})\n",
       "        [4] Column\n",
       "            [0] Column()\n",
       "            [1] Row\n",
       "                [0] Plotly(Figure, name='interactive12648')"
      ]
     },
     "execution_count": 41,
     "metadata": {
      "application/vnd.holoviews_exec.v0+json": {
       "id": "17707"
      }
     },
     "output_type": "execute_result"
    }
   ],
   "source": [
    "# Create a Title for the Dashboard\n",
    "dashboard_title = '# Real Estate Analysis of San Francisco from 2010 to 2016'\n",
    "\n",
    "# Create a tab layout for the dashboard\n",
    "sfo_market_dashboard = pn.Column(pn.pane.Markdown(dashboard_title, width=700), pn.Tabs(\n",
    "    ('Welcome', welcome),\n",
    "    ('Yearly Market Analysis', yearly_market_analysis),\n",
    "    ('Neighborhood Analysis', neighborhood_analysis),\n",
    "    ('Parallel Plots Analysis', parallel_plots_analysis),\n",
    "    ('Sunburst Plot Analysis', sunburst))\n",
    ")\n",
    "\n",
    "# Create the dashboard\n",
    "sfo_market_dashboard.servable()"
   ]
  },
  {
   "cell_type": "markdown",
   "metadata": {},
   "source": [
    "## Serve the Panel Dashboard"
   ]
  },
  {
   "cell_type": "code",
   "execution_count": 42,
   "metadata": {},
   "outputs": [
    {
     "name": "stdout",
     "output_type": "stream",
     "text": [
      "Launching server at http://localhost:51444\n"
     ]
    },
    {
     "data": {
      "text/plain": [
       "<bokeh.server.server.Server at 0x20f5e8ce0d0>"
      ]
     },
     "execution_count": 42,
     "metadata": {},
     "output_type": "execute_result"
    }
   ],
   "source": [
    "# Serve the# dashboard\n",
    "sfo_market_dashboard.show()"
   ]
  },
  {
   "cell_type": "markdown",
   "metadata": {},
   "source": [
    "# Debugging\n",
    "\n",
    "Note: Some of the Plotly express plots may not render in the notebook through the panel functions.\n",
    "\n",
    "However, you can test each plot by uncommenting the following code"
   ]
  },
  {
   "cell_type": "code",
   "execution_count": 69,
   "metadata": {},
   "outputs": [],
   "source": [
    "# housing_units_per_year()"
   ]
  },
  {
   "cell_type": "code",
   "execution_count": 68,
   "metadata": {},
   "outputs": [],
   "source": [
    "# average_gross_rent()"
   ]
  },
  {
   "cell_type": "code",
   "execution_count": 67,
   "metadata": {},
   "outputs": [],
   "source": [
    "# average_sales_price()"
   ]
  },
  {
   "cell_type": "code",
   "execution_count": 66,
   "metadata": {},
   "outputs": [],
   "source": [
    "# average_price_by_neighborhood()"
   ]
  },
  {
   "cell_type": "code",
   "execution_count": 65,
   "metadata": {},
   "outputs": [],
   "source": [
    "# top_most_expensive_neighborhoods()"
   ]
  },
  {
   "cell_type": "code",
   "execution_count": 64,
   "metadata": {},
   "outputs": [],
   "source": [
    "# most_expensive_neighborhoods_rent_sales()"
   ]
  },
  {
   "cell_type": "code",
   "execution_count": 63,
   "metadata": {},
   "outputs": [],
   "source": [
    "# neighborhood_map().show()"
   ]
  },
  {
   "cell_type": "code",
   "execution_count": 62,
   "metadata": {},
   "outputs": [],
   "source": [
    "# parallel_categories()"
   ]
  },
  {
   "cell_type": "code",
   "execution_count": 61,
   "metadata": {},
   "outputs": [],
   "source": [
    "# parallel_coordinates()"
   ]
  },
  {
   "cell_type": "code",
   "execution_count": 60,
   "metadata": {},
   "outputs": [],
   "source": [
    "# sunburst()"
   ]
  },
  {
   "cell_type": "code",
   "execution_count": null,
   "metadata": {},
   "outputs": [],
   "source": []
  }
 ],
 "metadata": {
  "file_extension": ".py",
  "kernelspec": {
   "display_name": "Python [conda env:Anaconda3-pyvizenv] *",
   "language": "python",
   "name": "conda-env-Anaconda3-pyvizenv-py"
  },
  "language_info": {
   "codemirror_mode": {
    "name": "ipython",
    "version": 3
   },
   "file_extension": ".py",
   "mimetype": "text/x-python",
   "name": "python",
   "nbconvert_exporter": "python",
   "pygments_lexer": "ipython3",
   "version": "3.8.5"
  },
  "mimetype": "text/x-python",
  "name": "python",
  "npconvert_exporter": "python",
  "pygments_lexer": "ipython3",
  "version": 3
 },
 "nbformat": 4,
 "nbformat_minor": 4
}
